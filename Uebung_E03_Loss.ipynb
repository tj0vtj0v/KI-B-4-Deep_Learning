{
 "cells": [
  {
   "cell_type": "markdown",
   "id": "0",
   "metadata": {},
   "source": [
    "# Loss Functions"
   ]
  },
  {
   "cell_type": "markdown",
   "id": "1",
   "metadata": {},
   "source": [
    "## Schritt 1: Categorical Cross-Entropy loss berechnen"
   ]
  },
  {
   "cell_type": "code",
   "execution_count": 3,
   "id": "2",
   "metadata": {},
   "outputs": [],
   "source": [
    "import math"
   ]
  },
  {
   "cell_type": "code",
   "execution_count": 4,
   "id": "3",
   "metadata": {},
   "outputs": [],
   "source": [
    "softmax_output = [0.7, 0.1, 0.2]\n",
    "target_output = [1, 0, 0]"
   ]
  },
  {
   "cell_type": "code",
   "execution_count": 5,
   "id": "4",
   "metadata": {},
   "outputs": [
    {
     "name": "stdout",
     "output_type": "stream",
     "text": [
      "0.35667494393873245\n"
     ]
    }
   ],
   "source": [
    "loss = -(\n",
    "    math.log(softmax_output[0]) * target_output[0]+\n",
    "    math.log(softmax_output[1]) * target_output[1]+\n",
    "    math.log(softmax_output[2]) * target_output[2]\n",
    ")\n",
    "print(loss)"
   ]
  },
  {
   "cell_type": "code",
   "execution_count": 6,
   "id": "5",
   "metadata": {},
   "outputs": [
    {
     "name": "stdout",
     "output_type": "stream",
     "text": [
      "0.35667494393873245\n"
     ]
    }
   ],
   "source": [
    "loss_simple = -math.log(softmax_output[0])\n",
    "print(loss_simple)"
   ]
  },
  {
   "cell_type": "markdown",
   "id": "6",
   "metadata": {},
   "source": [
    "### Log Funktion reminder"
   ]
  },
  {
   "cell_type": "code",
   "execution_count": 10,
   "id": "7",
   "metadata": {},
   "outputs": [],
   "source": [
    "import matplotlib.pyplot as plt\n",
    "import seaborn as sns\n",
    "import numpy as np"
   ]
  },
  {
   "cell_type": "code",
   "execution_count": 8,
   "id": "8",
   "metadata": {},
   "outputs": [],
   "source": [
    "sns.set_context(\"talk\")"
   ]
  },
  {
   "cell_type": "code",
   "execution_count": 11,
   "id": "9",
   "metadata": {},
   "outputs": [
    {
     "data": {
      "image/png": "[encoded data removed]",
      "text/plain": [
       "<Figure size 640x480 with 1 Axes>"
      ]
     },
     "metadata": {},
     "output_type": "display_data"
    }
   ],
   "source": [
    "x = np.linspace(0.001, 1, 1000)\n",
    "y = -np.log(x)\n",
    "\n",
    "f, ax = plt.subplots(1)\n",
    "ax.plot(x, y)\n",
    "\n",
    "_ = ax.set_xlabel(\"Softmax output\")\n",
    "_ = ax.set_ylabel(\"Loss\")"
   ]
  },
  {
   "cell_type": "markdown",
   "id": "10",
   "metadata": {},
   "source": [
    "## Schritt 2: Mehrere Samples"
   ]
  },
  {
   "cell_type": "code",
   "execution_count": 12,
   "id": "11",
   "metadata": {},
   "outputs": [],
   "source": [
    "class Activation_Softmax:\n",
    "    def forward(self, inputs):\n",
    "        # Step 1: Subtract maximum and calculate exponential values\n",
    "        exp_values = np.exp(inputs - np.max(inputs, axis=1, keepdims=True))\n",
    "        \n",
    "        # Step 2: Normalize exp values\n",
    "        self.output = exp_values / np.sum(exp_values, axis=1, keepdims=True)"
   ]
  },
  {
   "cell_type": "code",
   "execution_count": 13,
   "id": "12",
   "metadata": {},
   "outputs": [],
   "source": [
    "output = np.random.randn(3, 3)"
   ]
  },
  {
   "cell_type": "code",
   "execution_count": 14,
   "id": "13",
   "metadata": {},
   "outputs": [
    {
     "data": {
      "text/plain": [
       "array([[ 0.69553184,  1.28033527,  1.80805368],\n",
       "       [-0.92510376, -1.23839945, -0.23574878],\n",
       "       [ 1.25856267,  0.19182286,  1.11228076]])"
      ]
     },
     "execution_count": 14,
     "metadata": {},
     "output_type": "execute_result"
    }
   ],
   "source": [
    "output"
   ]
  },
  {
   "cell_type": "code",
   "execution_count": 15,
   "id": "14",
   "metadata": {},
   "outputs": [],
   "source": [
    "softmax = Activation_Softmax()\n",
    "softmax.forward(output)\n",
    "softmax_outputs = softmax.output"
   ]
  },
  {
   "cell_type": "code",
   "execution_count": 16,
   "id": "15",
   "metadata": {},
   "outputs": [
    {
     "data": {
      "text/plain": [
       "array([[0.17133091, 0.30747699, 0.52119209],\n",
       "       [0.26856714, 0.19633164, 0.53510122],\n",
       "       [0.45288979, 0.15585233, 0.39125788]])"
      ]
     },
     "execution_count": 16,
     "metadata": {},
     "output_type": "execute_result"
    }
   ],
   "source": [
    "softmax_outputs"
   ]
  },
  {
   "cell_type": "markdown",
   "id": "16",
   "metadata": {},
   "source": [
    "### Sparse labels"
   ]
  },
  {
   "cell_type": "code",
   "execution_count": 17,
   "id": "17",
   "metadata": {},
   "outputs": [],
   "source": [
    "class_targets = [1, 0, 2]"
   ]
  },
  {
   "cell_type": "code",
   "execution_count": 18,
   "id": "18",
   "metadata": {},
   "outputs": [
    {
     "name": "stdout",
     "output_type": "stream",
     "text": [
      "[(1, array([0.17133091, 0.30747699, 0.52119209])),\n",
      " (0, array([0.26856714, 0.19633164, 0.53510122])),\n",
      " (2, array([0.45288979, 0.15585233, 0.39125788]))]\n"
     ]
    }
   ],
   "source": [
    "from pprint import pprint\n",
    "pprint(list(zip(class_targets, softmax_outputs)))"
   ]
  },
  {
   "cell_type": "code",
   "execution_count": 19,
   "id": "19",
   "metadata": {},
   "outputs": [
    {
     "name": "stdout",
     "output_type": "stream",
     "text": [
      "Target index: 1, Predictions: [0.17133091 0.30747699 0.52119209]\n",
      "Target index: 0, Predictions: [0.26856714 0.19633164 0.53510122]\n",
      "Target index: 2, Predictions: [0.45288979 0.15585233 0.39125788]\n"
     ]
    }
   ],
   "source": [
    "from pprint import pprint\n",
    "for target_index, predictions in zip(class_targets, softmax_outputs):\n",
    "    print(f\"Target index: {target_index}, Predictions: {predictions}\")"
   ]
  },
  {
   "cell_type": "code",
   "execution_count": 21,
   "id": "20",
   "metadata": {},
   "outputs": [
    {
     "name": "stdout",
     "output_type": "stream",
     "text": [
      "0.3074769949928569\n",
      "0.268567141843653\n",
      "0.3912578808118007\n"
     ]
    }
   ],
   "source": [
    "for target_index, predictions in zip(class_targets, softmax_outputs):\n",
    "    print(predictions[target_index])"
   ]
  },
  {
   "cell_type": "code",
   "execution_count": 26,
   "id": "21",
   "metadata": {},
   "outputs": [
    {
     "name": "stdout",
     "output_type": "stream",
     "text": [
      "[0.30747699 0.26856714 0.39125788]\n"
     ]
    }
   ],
   "source": [
    "print(softmax_outputs[[0, 1, 2], class_targets])"
   ]
  },
  {
   "cell_type": "code",
   "execution_count": 23,
   "id": "22",
   "metadata": {},
   "outputs": [
    {
     "name": "stdout",
     "output_type": "stream",
     "text": [
      "[0.30747699 0.26856714 0.39125788]\n"
     ]
    }
   ],
   "source": [
    "print(softmax_outputs[range(len(softmax_outputs)), class_targets])"
   ]
  },
  {
   "cell_type": "code",
   "execution_count": 24,
   "id": "23",
   "metadata": {},
   "outputs": [
    {
     "name": "stdout",
     "output_type": "stream",
     "text": [
      "[1.17935501 1.31465433 0.93838839]\n"
     ]
    }
   ],
   "source": [
    "print(-np.log(softmax_outputs[range(len(softmax_outputs)), class_targets]))"
   ]
  },
  {
   "cell_type": "code",
   "execution_count": 25,
   "id": "24",
   "metadata": {},
   "outputs": [
    {
     "name": "stdout",
     "output_type": "stream",
     "text": [
      "1.1441325786025005\n"
     ]
    }
   ],
   "source": [
    "print(np.mean(-np.log(softmax_outputs[range(len(softmax_outputs)), class_targets])))"
   ]
  },
  {
   "cell_type": "markdown",
   "id": "25",
   "metadata": {},
   "source": [
    "### One-hot-encoded\n"
   ]
  },
  {
   "cell_type": "code",
   "execution_count": 27,
   "id": "26",
   "metadata": {},
   "outputs": [],
   "source": [
    "class_targets = np.array([[0, 1, 0], [1, 0, 0], [0, 0, 1]])"
   ]
  },
  {
   "cell_type": "code",
   "execution_count": 28,
   "id": "27",
   "metadata": {},
   "outputs": [
    {
     "data": {
      "text/plain": [
       "array([[0.        , 0.30747699, 0.        ],\n",
       "       [0.26856714, 0.        , 0.        ],\n",
       "       [0.        , 0.        , 0.39125788]])"
      ]
     },
     "execution_count": 28,
     "metadata": {},
     "output_type": "execute_result"
    }
   ],
   "source": [
    "softmax_outputs * class_targets"
   ]
  },
  {
   "cell_type": "code",
   "execution_count": 30,
   "id": "28",
   "metadata": {},
   "outputs": [
    {
     "data": {
      "text/plain": [
       "array([0.30747699, 0.26856714, 0.39125788])"
      ]
     },
     "execution_count": 30,
     "metadata": {},
     "output_type": "execute_result"
    }
   ],
   "source": [
    "max_confidences = (softmax_outputs * class_targets).sum(axis=1)\n",
    "max_confidences"
   ]
  },
  {
   "cell_type": "markdown",
   "id": "29",
   "metadata": {},
   "source": [
    "### Clipping"
   ]
  },
  {
   "cell_type": "code",
   "execution_count": 31,
   "id": "30",
   "metadata": {},
   "outputs": [
    {
     "data": {
      "text/plain": [
       "array([0.30747699, 0.26856714, 0.39125788])"
      ]
     },
     "execution_count": 31,
     "metadata": {},
     "output_type": "execute_result"
    }
   ],
   "source": [
    "np.clip(max_confidences, 1e-7, 1 - 1e-7)"
   ]
  },
  {
   "cell_type": "code",
   "execution_count": 32,
   "id": "31",
   "metadata": {},
   "outputs": [
    {
     "data": {
      "text/plain": [
       "array([1.000000e-07, 3.200000e-01, 9.999999e-01])"
      ]
     },
     "execution_count": 32,
     "metadata": {},
     "output_type": "execute_result"
    }
   ],
   "source": [
    "np.clip([0, 0.32, 1], 1e-7, 1 - 1e-7)"
   ]
  },
  {
   "cell_type": "markdown",
   "id": "32",
   "metadata": {},
   "source": [
    "## Schritt 3: In einer Klasse verpacken"
   ]
  },
  {
   "cell_type": "code",
   "execution_count": 34,
   "id": "33",
   "metadata": {},
   "outputs": [],
   "source": [
    "class Loss:\n",
    "    def calculate(self, output, y):\n",
    "        sample_losses = self.forward(output, y)\n",
    "        \n",
    "        loss = np.mean(sample_losses)\n",
    "        return loss"
   ]
  },
  {
   "cell_type": "code",
   "execution_count": 35,
   "id": "34",
   "metadata": {},
   "outputs": [],
   "source": [
    "class Loss_CategoricalCrossentropy(Loss):\n",
    "    def forward(self, y_pred, y_true):\n",
    "        n_samples = len(y_pred)\n",
    "        \n",
    "        y_pred_clipped = np.clip(y_pred, 1e-7, 1-1e-7)# TODO: Perform clipping\n",
    "        \n",
    "        if len(y_true.shape) == 1: # For sparse labels\n",
    "            correct_confidences = y_pred_clipped[range(n_samples), y_true]\n",
    "            \n",
    "        elif len(y_true.shape) == 2: # For one hot encoded labels\n",
    "            correct_confidences = (y_pred_clipped * y_true).sum(axis=1)\n",
    "            \n",
    "        losses = -np.log(correct_confidences) # Compute loss\n",
    "        return losses"
   ]
  },
  {
   "cell_type": "code",
   "execution_count": 36,
   "id": "35",
   "metadata": {},
   "outputs": [],
   "source": [
    "loss_function = Loss_CategoricalCrossentropy()"
   ]
  },
  {
   "cell_type": "code",
   "execution_count": 37,
   "id": "36",
   "metadata": {},
   "outputs": [],
   "source": [
    "loss = loss_function.calculate(softmax_outputs, class_targets)"
   ]
  },
  {
   "cell_type": "code",
   "execution_count": 38,
   "id": "37",
   "metadata": {},
   "outputs": [
    {
     "name": "stdout",
     "output_type": "stream",
     "text": [
      "1.1441325786025005\n"
     ]
    }
   ],
   "source": [
    "print(loss)"
   ]
  },
  {
   "cell_type": "markdown",
   "id": "38",
   "metadata": {},
   "source": [
    "## Schritt 4: Alles in einem Beispiel kombinieren"
   ]
  },
  {
   "cell_type": "code",
   "execution_count": 39,
   "id": "39",
   "metadata": {},
   "outputs": [],
   "source": [
    "import nnfs\n",
    "from nnfs.datasets import spiral_data\n",
    "\n",
    "nnfs.init()"
   ]
  },
  {
   "cell_type": "code",
   "execution_count": 40,
   "id": "40",
   "metadata": {},
   "outputs": [],
   "source": [
    "# Dense Layer\n",
    "class Layer_Dense:\n",
    "    \n",
    "    # Initialization Code\n",
    "    def __init__(self, n_inputs, n_neurons):\n",
    "        # Initilalize weights and biases according to the shape given\n",
    "        self.weights = 0.01 * np.random.randn(n_inputs, n_neurons)\n",
    "        self.biases = np.zeros((1, n_neurons))\n",
    "    \n",
    "    def forward(self, inputs):\n",
    "        # Calculate output as we did on the slides\n",
    "        self.output = np.dot(inputs, self.weights) + self.biases"
   ]
  },
  {
   "cell_type": "code",
   "execution_count": 41,
   "id": "41",
   "metadata": {},
   "outputs": [],
   "source": [
    "class Activation_ReLU:\n",
    "    \n",
    "    def forward(self, inputs):\n",
    "        # Calculate the output based on inputs. \n",
    "        self.output = np.maximum(0, inputs)"
   ]
  },
  {
   "cell_type": "code",
   "execution_count": 42,
   "id": "42",
   "metadata": {},
   "outputs": [],
   "source": [
    "class Loss:\n",
    "    def calculate(self, output, y):\n",
    "        # Calculate the per sample loss\n",
    "        samples_losses = self.forward(output, y)\n",
    "\n",
    "        # Calculate the mean loss and return it\n",
    "        loss = np.mean(samples_losses)\n",
    "        return loss"
   ]
  },
  {
   "cell_type": "code",
   "execution_count": 43,
   "id": "43",
   "metadata": {},
   "outputs": [],
   "source": [
    "X, y = spiral_data(samples=100, classes=3)"
   ]
  },
  {
   "cell_type": "code",
   "execution_count": 44,
   "id": "44",
   "metadata": {},
   "outputs": [],
   "source": [
    "# Create 2 subsequent layers ((2 in, 3 out, relu), (3 in, 3 out, softmax))\n",
    "\n",
    "dense1 = Layer_Dense(2, 3)  # 2 Features, 3 Neurons\n",
    "activation1 = Activation_ReLU()\n",
    "\n",
    "dense2 = Layer_Dense(3, 3)  # 3 Features, 3 Neurons\n",
    "activation2 = Activation_Softmax()"
   ]
  },
  {
   "cell_type": "code",
   "execution_count": 45,
   "id": "45",
   "metadata": {},
   "outputs": [],
   "source": [
    "loss_function = Loss_CategoricalCrossentropy()"
   ]
  },
  {
   "cell_type": "code",
   "execution_count": 46,
   "id": "46",
   "metadata": {},
   "outputs": [],
   "source": [
    "# Perform forward pass\n",
    "dense1.forward(X)\n",
    "activation1.forward(dense1.output)\n",
    "dense2.forward(activation1.output)\n",
    "activation2.forward(dense2.output)"
   ]
  },
  {
   "cell_type": "code",
   "execution_count": 47,
   "id": "47",
   "metadata": {},
   "outputs": [
    {
     "name": "stdout",
     "output_type": "stream",
     "text": [
      "[[0.33333334 0.33333334 0.33333334]\n",
      " [0.33333316 0.3333332  0.33333364]\n",
      " [0.33333287 0.3333329  0.33333418]]\n"
     ]
    }
   ],
   "source": [
    "print(activation2.output[:3])"
   ]
  },
  {
   "cell_type": "code",
   "execution_count": 48,
   "id": "48",
   "metadata": {},
   "outputs": [
    {
     "name": "stdout",
     "output_type": "stream",
     "text": [
      "1.0986104\n"
     ]
    }
   ],
   "source": [
    "loss = loss_function.calculate(activation2.output, y)\n",
    "print(loss)"
   ]
  },
  {
   "cell_type": "code",
   "execution_count": 49,
   "id": "49",
   "metadata": {},
   "outputs": [],
   "source": [
    "predictions = np.argmax(activation2.output, axis=1)"
   ]
  },
  {
   "cell_type": "code",
   "execution_count": 50,
   "id": "eecc2472-5194-4f3a-a489-fccb82124656",
   "metadata": {},
   "outputs": [
    {
     "data": {
      "text/plain": [
       "array([0, 2, 2, 2, 2, 2, 2, 2, 2, 2, 2, 2, 2, 2, 2, 2, 2, 2, 2, 2, 2, 2,\n",
       "       2, 2, 2, 2, 2, 2, 2, 2, 2, 2, 2, 2, 2, 2, 2, 2, 2, 2, 2, 2, 2, 2,\n",
       "       2, 2, 2, 2, 2, 2, 2, 2, 2, 2, 2, 2, 2, 2, 2, 2, 2, 2, 0, 2, 2, 2,\n",
       "       0, 2, 2, 2, 2, 2, 2, 2, 2, 2, 2, 2, 2, 2, 2, 2, 2, 2, 2, 2, 2, 2,\n",
       "       2, 2, 2, 2, 2, 2, 2, 2, 2, 2, 2, 2, 0, 2, 2, 2, 2, 2, 2, 2, 2, 2,\n",
       "       2, 2, 2, 2, 2, 2, 0, 2, 0, 2, 2, 2, 2, 2, 2, 2, 2, 2, 2, 2, 2, 2,\n",
       "       2, 2, 2, 2, 2, 2, 2, 2, 2, 2, 2, 2, 2, 2, 2, 2, 2, 2, 2, 2, 2, 2,\n",
       "       2, 2, 2, 2, 2, 2, 2, 2, 2, 2, 2, 2, 2, 2, 2, 2, 2, 2, 2, 2, 2, 2,\n",
       "       2, 2, 2, 2, 2, 2, 2, 2, 2, 2, 2, 2, 2, 2, 0, 2, 2, 2, 2, 2, 2, 2,\n",
       "       2, 2, 0, 2, 2, 2, 2, 2, 2, 2, 2, 2, 2, 2, 2, 2, 2, 2, 2, 2, 2, 2,\n",
       "       2, 2, 2, 2, 2, 2, 2, 2, 2, 2, 2, 2, 2, 2, 2, 2, 2, 2, 2, 2, 2, 2,\n",
       "       2, 2, 2, 2, 2, 2, 2, 2, 2, 2, 2, 2, 2, 2, 2, 2, 2, 2, 2, 2, 2, 2,\n",
       "       2, 2, 2, 2, 2, 2, 2, 2, 2, 2, 2, 2, 2, 2, 2, 2, 2, 2, 2, 2, 2, 2,\n",
       "       2, 2, 2, 2, 2, 2, 2, 2, 2, 2, 2, 2, 2, 2])"
      ]
     },
     "execution_count": 50,
     "metadata": {},
     "output_type": "execute_result"
    }
   ],
   "source": [
    "predictions"
   ]
  },
  {
   "cell_type": "code",
   "execution_count": 51,
   "id": "50",
   "metadata": {},
   "outputs": [
    {
     "name": "stdout",
     "output_type": "stream",
     "text": [
      "0.34\n"
     ]
    }
   ],
   "source": [
    "accuracy = np.mean(predictions == y)\n",
    "print(accuracy)"
   ]
  },
  {
   "cell_type": "markdown",
   "id": "51",
   "metadata": {},
   "source": [
    "## Schritt 5: Naive Optimierung implementieren"
   ]
  },
  {
   "cell_type": "code",
   "execution_count": 52,
   "id": "52",
   "metadata": {},
   "outputs": [],
   "source": [
    "def run_forward_pass():\n",
    "    # Perform forward pass\n",
    "    dense1.forward(X)\n",
    "    activation1.forward(dense1.output)\n",
    "    dense2.forward(activation1.output)\n",
    "    activation2.forward(dense2.output)\n",
    "    \n",
    "    \n",
    "    # Compute loss\n",
    "    loss = loss_function.calculate(activation2.output, y)\n",
    "    return loss"
   ]
  },
  {
   "cell_type": "code",
   "execution_count": 53,
   "id": "53",
   "metadata": {},
   "outputs": [],
   "source": [
    "def pick_random_weights():\n",
    "    dense1.weights = 0.05 * np.random.randn(2, 3)\n",
    "    dense1.biases = 0.05 * np.random.randn(1, 3)\n",
    "    dense2.weights = 0.05 * np.random.randn(3, 3)\n",
    "    dense2.biases = 0.05 * np.random.randn(1, 3)"
   ]
  },
  {
   "cell_type": "code",
   "execution_count": 60,
   "id": "54",
   "metadata": {},
   "outputs": [
    {
     "name": "stdout",
     "output_type": "stream",
     "text": [
      "Found new best set of weights with loss: 1.09871 and accuracy: 33.33 %.\n",
      "Found new best set of weights with loss: 1.09857 and accuracy: 34.0 %.\n",
      "Found new best set of weights with loss: 1.09855 and accuracy: 33.33 %.\n",
      "Found new best set of weights with loss: 1.09842 and accuracy: 33.33 %.\n",
      "Found new best set of weights with loss: 1.0984 and accuracy: 33.33 %.\n",
      "Found new best set of weights with loss: 1.09839 and accuracy: 33.33 %.\n",
      "Found new best set of weights with loss: 1.09837 and accuracy: 33.33 %.\n",
      "Found new best set of weights with loss: 1.09824 and accuracy: 33.33 %.\n",
      "Found new best set of weights with loss: 1.09819 and accuracy: 34.0 %.\n",
      "Found new best set of weights with loss: 1.09819 and accuracy: 33.33 %.\n"
     ]
    }
   ],
   "source": [
    "lowest_loss = run_forward_pass()\n",
    "for iteration in range(10000):\n",
    "    pick_random_weights()\n",
    "    loss = run_forward_pass()\n",
    "    \n",
    "    predictions = np.argmax(activation2.output, axis=1)\n",
    "    accuracy = np.mean(predictions == y)\n",
    "    \n",
    "    if loss < lowest_loss:\n",
    "        print(f\"Found new best set of weights with loss: {round(float(loss), 5)} \"\n",
    "              f\"and accuracy: {round(100*accuracy, 2)} %.\")\n",
    "        lowest_loss = loss"
   ]
  },
  {
   "cell_type": "code",
   "execution_count": 59,
   "id": "55",
   "metadata": {},
   "outputs": [
    {
     "data": {
      "text/plain": [
       "np.float32(1.0980641)"
      ]
     },
     "execution_count": 59,
     "metadata": {},
     "output_type": "execute_result"
    }
   ],
   "source": [
    "lowest_loss"
   ]
  },
  {
   "cell_type": "code",
   "execution_count": null,
   "id": "6f673f08-585f-48c6-9c08-f62165f62f2b",
   "metadata": {},
   "outputs": [],
   "source": []
  }
 ],
 "metadata": {
  "celltoolbar": "Tags",
  "kernelspec": {
   "display_name": "Python 3 (ipykernel)",
   "language": "python",
   "name": "python3"
  },
  "language_info": {
   "codemirror_mode": {
    "name": "ipython",
    "version": 3
   },
   "file_extension": ".py",
   "mimetype": "text/x-python",
   "name": "python",
   "nbconvert_exporter": "python",
   "pygments_lexer": "ipython3",
   "version": "3.13.2"
  }
 },
 "nbformat": 4,
 "nbformat_minor": 5
}
