{
 "cells": [
  {
   "cell_type": "markdown",
   "id": "3e5fe60d",
   "metadata": {},
   "source": [
    "# Regression\n",
    "Deep Learning - KI29  \n",
    "Deggendorf Institute of Technology  \n",
    "Prof. Dr. Florian Wahl"
   ]
  },
  {
   "cell_type": "markdown",
   "id": "c31d50d5",
   "metadata": {},
   "source": [
    "## Existierende Codebase"
   ]
  },
  {
   "cell_type": "code",
   "execution_count": 1,
   "id": "26003db2",
   "metadata": {},
   "outputs": [],
   "source": [
    "import numpy as np\n",
    "import pandas as pd\n",
    "import matplotlib.pyplot as plt\n",
    "\n",
    "import nnfs\n",
    "from nnfs.datasets import sine_data"
   ]
  },
  {
   "cell_type": "code",
   "execution_count": 2,
   "id": "4251dd5c",
   "metadata": {},
   "outputs": [],
   "source": [
    "# Dense Layer\n",
    "class Layer_Dense:\n",
    "\n",
    "    # Initialization Code\n",
    "    def __init__(self, n_inputs, n_neurons,\n",
    "                 weight_regularizer_l1=0, weight_regularizer_l2=0,\n",
    "                 bias_regularizer_l1=0, bias_regularizer_l2=0):\n",
    "        # Initilalize weights and biases according to the shape given\n",
    "        self.weights = 0.01 * np.random.randn(n_inputs, n_neurons)\n",
    "        self.biases = np.zeros((1, n_neurons))\n",
    "        \n",
    "        # Save Regularization Lambdas\n",
    "        self.weight_regularizer_l1 = weight_regularizer_l1\n",
    "        self.weight_regularizer_l2 = weight_regularizer_l2\n",
    "        self.bias_regularizer_l1 = bias_regularizer_l1\n",
    "        self.bias_regularizer_l2 = bias_regularizer_l2\n",
    "\n",
    "    def forward(self, inputs):\n",
    "        self.inputs = inputs\n",
    "\n",
    "        # Calculate output as we did on the slides\n",
    "        self.output = np.dot(inputs, self.weights) + self.biases\n",
    "\n",
    "    def backward(self, dvalues):\n",
    "        # Gradients on parameters\n",
    "        self.dweights = np.dot(self.inputs.T, dvalues)\n",
    "        self.dbiases = np.sum(dvalues, axis=0, keepdims=True)\n",
    "        \n",
    "        # Regularisation\n",
    "        # L1 weights\n",
    "        if self.weight_regularizer_l1 > 0:\n",
    "            dL1 = np.ones_like(self.weights)\n",
    "            dL1[self.weights < 0] = -1\n",
    "            self.dweights += self.weight_regularizer_l1 * dL1\n",
    "            \n",
    "        # L2 weights\n",
    "        if self.weight_regularizer_l2 > 0:\n",
    "            self.dweights += 2 * self.weight_regularizer_l2 * self.weights\n",
    "            \n",
    "        # L1 biases\n",
    "        if self.bias_regularizer_l1 > 0:\n",
    "            dL1 = np.ones_like(self.biases)\n",
    "            dL1[self.biases < 0] = -1\n",
    "            self.dbiases += self.bias_regularizer_l1 * dL1\n",
    "            \n",
    "        # L2 biases\n",
    "        if self.bias_regularizer_l2 > 0:\n",
    "            self.dbiases += 2 * self.bias_regularizer_l2 * self.biases\n",
    "\n",
    "        # Gradients on values\n",
    "        self.dinputs = np.dot(dvalues, self.weights.T)"
   ]
  },
  {
   "cell_type": "code",
   "execution_count": 3,
   "id": "c8fe9df5",
   "metadata": {},
   "outputs": [],
   "source": [
    "class Activation_ReLU:\n",
    "    def forward(self, inputs):\n",
    "        self.inputs = inputs\n",
    "\n",
    "        # Calculate the output based on inputs.\n",
    "        self.output = np.maximum(0, inputs)\n",
    "\n",
    "    def backward(self, dvalues):\n",
    "        # Copy before we modify\n",
    "        self.dinputs = dvalues.copy()\n",
    "\n",
    "        # Set to 0 if value is <=0\n",
    "        self.dinputs[self.inputs <= 0] = 0"
   ]
  },
  {
   "cell_type": "code",
   "execution_count": 4,
   "id": "647a0b42",
   "metadata": {},
   "outputs": [],
   "source": [
    "class Loss:\n",
    "    def calculate(self, output, y):\n",
    "        # Calculate the per sample loss\n",
    "        samples_losses = self.forward(output, y)\n",
    "\n",
    "        # Calculate the mean loss and return it\n",
    "        loss = np.mean(samples_losses)\n",
    "        return loss\n",
    "    \n",
    "    def regularization_loss(self, layer):\n",
    "        # Init return value to 0\n",
    "        regularization_loss = 0\n",
    "        \n",
    "        # L1 weights\n",
    "        if layer.weight_regularizer_l1 > 0:\n",
    "            regularization_loss += layer.weight_regularizer_l1 * np.sum(np.abs(layer.weights))\n",
    "            \n",
    "        # L2 weights\n",
    "        if layer.weight_regularizer_l2 > 0:\n",
    "            regularization_loss += layer.weight_regularizer_l2 * np.sum(layer.weights ** 2)\n",
    "            \n",
    "        # L1 biases\n",
    "        if layer.bias_regularizer_l1 > 0:\n",
    "            regularization_loss += layer.bias_regularizer_l1 * np.sum(np.abs(layer.biases))\n",
    "            \n",
    "        # L2 biases\n",
    "        if layer.bias_regularizer_l2 > 0:\n",
    "            regularization_loss += layer.bias_regularizer_l2 * np.sum(layer.biases ** 2)\n",
    "            \n",
    "        return regularization_loss"
   ]
  },
  {
   "cell_type": "code",
   "execution_count": 5,
   "id": "7581967a",
   "metadata": {},
   "outputs": [],
   "source": [
    "class Loss_CategoricalCrossentropy(Loss):\n",
    "    def forward(self, y_pred, y_true):\n",
    "        n_samples = len(y_pred)  # Count the samples\n",
    "\n",
    "        y_pred_clipped = np.clip(y_pred, 1e-7, 1 - 1e-7)  # Clip the predictions\n",
    "\n",
    "        # Get correct confidence values\n",
    "        # if labels are sparse\n",
    "        if len(y_true.shape) == 1:\n",
    "            correct_confidences = y_pred_clipped[range(n_samples), y_true]\n",
    "\n",
    "        # else if labels are one hot encoded\n",
    "        elif len(y_true.shape) == 2:\n",
    "            correct_confidences = np.sum(y_pred_clipped * y_true, axis=1)\n",
    "\n",
    "        # Compute Losses\n",
    "        losses = -np.log(correct_confidences)\n",
    "        return losses\n",
    "\n",
    "    # Backward pass\n",
    "    def backward(self, dvalues, y_true):\n",
    "        # Number of samples\n",
    "        samples = len(dvalues)\n",
    "\n",
    "        # Number of labels in every sample\n",
    "        # We'll use the first sample to count them\n",
    "        labels = len(dvalues[0])\n",
    "\n",
    "        # If labels are sparse, turn them into one-hot vector\n",
    "        if len(y_true.shape) == 1:\n",
    "            y_true = np.eye(labels)[y_true]\n",
    "\n",
    "        # Calculate gradient\n",
    "        self.dinputs = -y_true / dvalues\n",
    "\n",
    "        # Normalize gradient\n",
    "        self.dinputs = self.dinputs / samples"
   ]
  },
  {
   "cell_type": "code",
   "execution_count": 6,
   "id": "08887229",
   "metadata": {},
   "outputs": [],
   "source": [
    "# Softmax activation\n",
    "class Activation_Softmax:\n",
    "    def forward(self, inputs):\n",
    "        # Get unnormalized probabilities\n",
    "        exp_values = np.exp(inputs - np.max(inputs, axis=1, keepdims=True))\n",
    "        probabilities = exp_values / np.sum(exp_values, axis=1, keepdims=True)\n",
    "\n",
    "        # Normalize them for each sample\n",
    "        self.output = probabilities\n",
    "\n",
    "    def backward(self, dvalues):\n",
    "        # Create uninitialized array\n",
    "        self.dinputs = np.empty_like(dvalues)\n",
    "\n",
    "        # Enumerate outputs and gradients\n",
    "        for index, (single_output, single_dvalues) in enumerate(\n",
    "            zip(self.output, dvalues)\n",
    "        ):\n",
    "            # Flatten output array\n",
    "            single_output = single_output.reshape(-1, 1)\n",
    "\n",
    "            # Calculate Jacobian matrix of the output\n",
    "            jacobian_matrix = np.diagflat(single_output) - np.dot(\n",
    "                single_output, single_output.T\n",
    "            )\n",
    "\n",
    "            # Calculate sample-wise gradient\n",
    "            # and add it to the array of sample gradients\n",
    "            self.dinputs[index] = np.dot(jacobian_matrix, single_dvalues)"
   ]
  },
  {
   "cell_type": "code",
   "execution_count": 7,
   "id": "85dddaa6",
   "metadata": {},
   "outputs": [],
   "source": [
    "# Softmax classifier - combined Softmax activation\n",
    "# and cross-entropy loss for faster backward step\n",
    "class Activation_Softmax_Loss_CategoricalCrossentropy:\n",
    "    # Creates activation and loss function objects\n",
    "    def __init__(self):\n",
    "        self.activation = Activation_Softmax()\n",
    "        self.loss = Loss_CategoricalCrossentropy()\n",
    "\n",
    "    def forward(self, inputs, y_true):\n",
    "        # Output layer's activation function\n",
    "        self.activation.forward(inputs)\n",
    "        # Set the output\n",
    "        self.output = self.activation.output\n",
    "        # Calculate and return loss value\n",
    "        return self.loss.calculate(self.output, y_true)\n",
    "\n",
    "    def backward(self, dvalues, y_true):  # Number of samples\n",
    "        samples = len(dvalues)\n",
    "        # If labels are one-hot encoded, # turn them into discrete values\n",
    "        if len(y_true.shape) == 2:\n",
    "            y_true = np.argmax(y_true, axis=1)\n",
    "        # Copy so we can safely modify\n",
    "        self.dinputs = dvalues.copy()\n",
    "        # Calculate gradient\n",
    "        self.dinputs[range(samples), y_true] -= 1\n",
    "        # Normalize gradient\n",
    "        self.dinputs = self.dinputs / samples"
   ]
  },
  {
   "cell_type": "code",
   "execution_count": 8,
   "id": "a655e728",
   "metadata": {},
   "outputs": [],
   "source": [
    "# SGD optimizer\n",
    "class Optimizer_SGD:\n",
    "    # Initialize optimizer - set settings,\n",
    "    # learning rate of 1. is default for this optimizer\n",
    "    def __init__(self, learning_rate=1.0, decay=0.0, momentum=0.0):\n",
    "        self.learning_rate = learning_rate\n",
    "        self.current_learning_rate = learning_rate\n",
    "        self.decay = decay\n",
    "        self.iterations = 0\n",
    "        self.momentum = momentum\n",
    "\n",
    "    # Call before running optimization\n",
    "    def pre_update_params(self):\n",
    "        if self.decay:\n",
    "            self.current_learning_rate = self.learning_rate * (\n",
    "                1.0 / (1.0 + self.decay * self.iterations)\n",
    "            )\n",
    "\n",
    "    # Update parameters\n",
    "    def update_params(self, layer):\n",
    "        if self.momentum:\n",
    "            # If layer has no momentum arrays, create them\n",
    "            if not hasattr(layer, \"weight_momentums\"):\n",
    "                layer.weight_momentums = np.zeros_like(layer.weights)\n",
    "                layer.bias_momentums = np.zeros_like(layer.biases)\n",
    "\n",
    "            # Compute weight updates\n",
    "            weight_updates = (\n",
    "                self.momentum * layer.weight_momentums\n",
    "                - self.current_learning_rate * layer.dweights\n",
    "            )\n",
    "            layer.weight_momentums = weight_updates\n",
    "\n",
    "            # Compute bias updates\n",
    "            bias_updates = (\n",
    "                self.momentum * layer.bias_momentums\n",
    "                - self.current_learning_rate * layer.dbiases\n",
    "            )\n",
    "            layer.bias_momentums = bias_updates\n",
    "\n",
    "        else:\n",
    "            weight_updates = -self.current_learning_rate * layer.dweights\n",
    "            bias_updates = -self.current_learning_rate * layer.dbiases\n",
    "\n",
    "        # Perform update\n",
    "        layer.weights += weight_updates\n",
    "        layer.biases += bias_updates\n",
    "\n",
    "    # Call after running optimization\n",
    "    def post_update_params(self):\n",
    "        self.iterations += 1"
   ]
  },
  {
   "cell_type": "code",
   "execution_count": 9,
   "id": "1a391a5b",
   "metadata": {},
   "outputs": [],
   "source": [
    "class Optimizer_Adagrad:\n",
    "    # Initialize optimizer - set settings,\n",
    "    # learning rate of 1. is default for this optimizer\n",
    "    def __init__(self, learning_rate=1.0, decay=0.0, epsilon=1e-7):\n",
    "        self.learning_rate = learning_rate\n",
    "        self.current_learning_rate = learning_rate\n",
    "        self.decay = decay\n",
    "        self.iterations = 0\n",
    "        self.epsilon = epsilon\n",
    "\n",
    "    # Call before running optimization\n",
    "    def pre_update_params(self):\n",
    "        if self.decay:\n",
    "            self.current_learning_rate = self.learning_rate * (\n",
    "                1.0 / (1.0 + self.decay * self.iterations)\n",
    "            )\n",
    "\n",
    "    # Update parameters\n",
    "    def update_params(self, layer):\n",
    "        # If layer has no cache arrays, create them\n",
    "        if not hasattr(layer, \"weight_cache\"):\n",
    "            layer.weight_cache = np.zeros_like(layer.weights)\n",
    "            layer.bias_cache = np.zeros_like(layer.biases)\n",
    "\n",
    "        # Update the cache\n",
    "        layer.weight_cache += layer.dweights**2\n",
    "        layer.bias_cache += layer.dbiases**2\n",
    "\n",
    "        # Compute weight updates\n",
    "        layer.weights += (\n",
    "            -self.current_learning_rate\n",
    "            * layer.dweights\n",
    "            / (np.sqrt(layer.weight_cache) + self.epsilon)\n",
    "        )\n",
    "\n",
    "        # Compute bias updates\n",
    "        layer.biases += (\n",
    "            -self.current_learning_rate\n",
    "            * layer.dbiases\n",
    "            / (np.sqrt(layer.bias_cache) + self.epsilon)\n",
    "        )\n",
    "\n",
    "    # Call after running optimization\n",
    "    def post_update_params(self):\n",
    "        self.iterations += 1"
   ]
  },
  {
   "cell_type": "code",
   "execution_count": 10,
   "id": "a3848811",
   "metadata": {},
   "outputs": [],
   "source": [
    "class Optimizer_RMSprop:\n",
    "    # Initialize optimizer - set settings,\n",
    "    # learning rate of 1. is default for this optimizer\n",
    "    def __init__(self, learning_rate=1.0, decay=0.0, epsilon=1e-7, rho=0.9):\n",
    "        self.learning_rate = learning_rate\n",
    "        self.current_learning_rate = learning_rate\n",
    "        self.decay = decay\n",
    "        self.iterations = 0\n",
    "        self.epsilon = epsilon\n",
    "        self.rho = rho\n",
    "\n",
    "    # Call before running optimization\n",
    "    def pre_update_params(self):\n",
    "        if self.decay:\n",
    "            self.current_learning_rate = self.learning_rate * (\n",
    "                1.0 / (1.0 + self.decay * self.iterations)\n",
    "            )\n",
    "\n",
    "    # Update parameters\n",
    "    def update_params(self, layer):\n",
    "        # If layer has no cache arrays, create them\n",
    "        if not hasattr(layer, \"weight_cache\"):\n",
    "            layer.weight_cache = np.zeros_like(layer.weights)\n",
    "            layer.bias_cache = np.zeros_like(layer.biases)\n",
    "\n",
    "        # Update the cache\n",
    "        layer.weight_cache = (\n",
    "            self.rho * layer.weight_cache + (1 - self.rho) * layer.dweights**2\n",
    "        )\n",
    "        layer.bias_cache = (\n",
    "            self.rho * layer.bias_cache + (1 - self.rho) * layer.dbiases**2\n",
    "        )\n",
    "\n",
    "        # Compute weight updates\n",
    "        layer.weights += (\n",
    "            -self.current_learning_rate\n",
    "            * layer.dweights\n",
    "            / (np.sqrt(layer.weight_cache) + self.epsilon)\n",
    "        )\n",
    "\n",
    "        # Compute bias updates\n",
    "        layer.biases += (\n",
    "            -self.current_learning_rate\n",
    "            * layer.dbiases\n",
    "            / (np.sqrt(layer.bias_cache) + self.epsilon)\n",
    "        )\n",
    "\n",
    "    # Call after running optimization\n",
    "    def post_update_params(self):\n",
    "        self.iterations += 1"
   ]
  },
  {
   "cell_type": "code",
   "execution_count": 11,
   "id": "1cbceb8e",
   "metadata": {},
   "outputs": [],
   "source": [
    "class Optimizer_Adam:\n",
    "    # Initialize optimizer - set settings,\n",
    "    # learning rate of 1. is default for this optimizer\n",
    "    def __init__(self, learning_rate=0.001, decay=0.0, epsilon=1e-7, beta_1=0.9, beta_2=0.999):\n",
    "        self.learning_rate = learning_rate\n",
    "        self.current_learning_rate = learning_rate\n",
    "        self.decay = decay\n",
    "        self.iterations = 0\n",
    "        self.epsilon = epsilon\n",
    "        self.beta_1 = beta_1\n",
    "        self.beta_2 = beta_2\n",
    "\n",
    "    # Call before running optimization\n",
    "    def pre_update_params(self):\n",
    "        if self.decay:\n",
    "            self.current_learning_rate = self.learning_rate * (\n",
    "                1.0 / (1.0 + self.decay * self.iterations)\n",
    "            )\n",
    "\n",
    "    # Update parameters\n",
    "    def update_params(self, layer):\n",
    "        # If layer has no cache arrays, create them\n",
    "        if not hasattr(layer, \"weight_cache\"):\n",
    "            layer.weight_cache = np.zeros_like(layer.weights)\n",
    "            layer.weight_momentums = np.zeros_like(layer.weights)\n",
    "            layer.bias_cache = np.zeros_like(layer.biases)\n",
    "            layer.bias_momentums = np.zeros_like(layer.biases)\n",
    "            \n",
    "        # Compute momentums\n",
    "        layer.weight_momentums = self.beta_1 * layer.weight_momentums + (1 - self.beta_1) * layer.dweights\n",
    "        layer.bias_momentums = self.beta_1 * layer.bias_momentums + (1 - self.beta_1) * layer.dbiases\n",
    "        \n",
    "        # Perform momentum correction using beta 1 (add +1 to avoid zero-division error)\n",
    "        weight_momentums_corrected = layer.weight_momentums / (1 - self.beta_1 ** (self.iterations + 1))\n",
    "        bias_momentums_corrected = layer.bias_momentums / (1 - self.beta_1 ** (self.iterations + 1))\n",
    "\n",
    "        # Update the cache\n",
    "        layer.weight_cache = (\n",
    "            self.beta_2 * layer.weight_cache + (1 - self.beta_2) * layer.dweights**2\n",
    "        )\n",
    "        layer.bias_cache = (\n",
    "            self.beta_2 * layer.bias_cache + (1 - self.beta_2) * layer.dbiases**2\n",
    "        )\n",
    "        \n",
    "        # Perform cache correction\n",
    "        weight_cache_corrected = layer.weight_cache / (1 - self.beta_2 ** (self.iterations + 1))\n",
    "        bias_cache_corrected = layer.bias_cache / (1 - self.beta_2 ** (self.iterations + 1))\n",
    "\n",
    "        # Compute weight updates\n",
    "        layer.weights += (\n",
    "            -self.current_learning_rate\n",
    "            * weight_momentums_corrected\n",
    "            / (np.sqrt(weight_cache_corrected) + self.epsilon)\n",
    "        )\n",
    "\n",
    "        # Compute bias updates\n",
    "        layer.biases += (\n",
    "            -self.current_learning_rate\n",
    "            * bias_momentums_corrected\n",
    "            / (np.sqrt(bias_cache_corrected) + self.epsilon)\n",
    "        )\n",
    "\n",
    "    # Call after running optimization\n",
    "    def post_update_params(self):\n",
    "        self.iterations += 1"
   ]
  },
  {
   "cell_type": "code",
   "execution_count": 12,
   "id": "9a29edf0",
   "metadata": {},
   "outputs": [],
   "source": [
    "class Layer_Dropout:\n",
    "    def __init__(self, rate):\n",
    "        # Store the dropout probability which is 1-dropout_rate\n",
    "        self.rate = 1 - rate\n",
    "        \n",
    "    def forward(self, inputs):\n",
    "        # Save inputs\n",
    "        self.inputs = inputs\n",
    "        \n",
    "        # Generate dropout mask\n",
    "        self.binary_mask = np.random.binomial(1, self.rate, size=inputs.shape) / self.rate\n",
    "        \n",
    "        # Apply output mask\n",
    "        self.output = inputs * self.binary_mask\n",
    "        \n",
    "    def backward(self, dvalues):\n",
    "        # Apply gradient on values\n",
    "        self.dinputs = dvalues * self.binary_mask"
   ]
  },
  {
   "cell_type": "code",
   "execution_count": 13,
   "id": "7f4801bc",
   "metadata": {},
   "outputs": [],
   "source": [
    "class Activation_Sigmoid:\n",
    "    def forward(self, inputs):\n",
    "        # Save inputs and calculate output\n",
    "        self.inputs = inputs\n",
    "        self.output = 1 / (1 + np.exp(-inputs))\n",
    "        \n",
    "    def backward(self, dvalues):\n",
    "        # Calculate derivate (remember to use the \"trick\")\n",
    "        self.dinputs = dvalues * (1 - self.output) * self.output"
   ]
  },
  {
   "cell_type": "code",
   "execution_count": 14,
   "id": "495c0b97",
   "metadata": {},
   "outputs": [],
   "source": [
    "# Binary cross-entropy loss\n",
    "class Loss_BinaryCrossentropy(Loss):\n",
    "\n",
    "    # Forward pass\n",
    "    def forward(self, y_pred, y_true):\n",
    "\n",
    "        # Clip data to prevent division by 0\n",
    "        # Clip both sides to not drag mean towards any value\n",
    "        y_pred_clipped = np.clip(y_pred, 1e-7, 1 - 1e-7)\n",
    "\n",
    "        # Calculate sample-wise loss\n",
    "        sample_losses = -(y_true * np.log(y_pred_clipped) +\n",
    "                          (1 - y_true) * np.log(1 - y_pred_clipped))\n",
    "        sample_losses = np.mean(sample_losses, axis=-1)\n",
    "\n",
    "        # Return losses\n",
    "        return sample_losses\n",
    "\n",
    "    # Backward pass\n",
    "    def backward(self, dvalues, y_true):\n",
    "\n",
    "        # Number of samples\n",
    "        samples = len(dvalues)\n",
    "        # Number of outputs in every sample\n",
    "        # We'll use the first sample to count them\n",
    "        outputs = len(dvalues[0])\n",
    "\n",
    "        # Clip data to prevent division by 0\n",
    "        # Clip both sides to not drag mean towards any value\n",
    "        clipped_dvalues = np.clip(dvalues, 1e-7, 1 - 1e-7)\n",
    "\n",
    "        # Calculate gradient\n",
    "        self.dinputs = -(y_true / clipped_dvalues -\n",
    "                         (1 - y_true) / (1 - clipped_dvalues)) / outputs\n",
    "        # Normalize gradient\n",
    "        self.dinputs = self.dinputs / samples"
   ]
  },
  {
   "cell_type": "markdown",
   "id": "80f874cd",
   "metadata": {},
   "source": [
    "## Daten generieren"
   ]
  },
  {
   "cell_type": "code",
   "execution_count": 15,
   "id": "408d6b2d",
   "metadata": {},
   "outputs": [
    {
     "data": {
      "text/plain": [
       "[<matplotlib.lines.Line2D at 0x130129990>]"
      ]
     },
     "execution_count": 15,
     "metadata": {},
     "output_type": "execute_result"
    },
    {
     "data": {
      "image/png": "[encoded data removed]",
      "text/plain": [
       "<Figure size 432x288 with 1 Axes>"
      ]
     },
     "metadata": {
      "needs_background": "light"
     },
     "output_type": "display_data"
    }
   ],
   "source": [
    "nnfs.init()\n",
    "\n",
    "X, y = sine_data()\n",
    "\n",
    "plt.plot(X, y)"
   ]
  },
  {
   "cell_type": "markdown",
   "id": "56bf2209",
   "metadata": {},
   "source": [
    "## Lineare Aktivierungsfunktion"
   ]
  },
  {
   "cell_type": "code",
   "execution_count": 23,
   "id": "a1078435",
   "metadata": {},
   "outputs": [],
   "source": [
    "# Linear activation function\n",
    "class Activation_Linear:\n",
    "    def forward(self, inputs):\n",
    "        ...\n",
    "        \n",
    "    def backward(self, dvalues):\n",
    "        # Ableitung = 1\n",
    "        ..."
   ]
  },
  {
   "cell_type": "code",
   "execution_count": 24,
   "id": "88dbc547",
   "metadata": {
    "tags": [
     "solution"
    ]
   },
   "outputs": [],
   "source": [
    "# Linear activation function\n",
    "class Activation_Linear:\n",
    "    def forward(self, inputs):\n",
    "        self.inputs = inputs\n",
    "        self.output = inputs\n",
    "        \n",
    "    def backward(self, dvalues):\n",
    "        # Ableitung = 1\n",
    "        self.dinputs = dvalues.copy()"
   ]
  },
  {
   "cell_type": "markdown",
   "id": "7139565c",
   "metadata": {},
   "source": [
    "## Passende Loss Funktionen: MSE & MAE"
   ]
  },
  {
   "cell_type": "code",
   "execution_count": null,
   "id": "c82f0bbd",
   "metadata": {},
   "outputs": [],
   "source": [
    "class Loss_MeanSquaredError(Loss):\n",
    "    def forward(self, y_pred, y_true):\n",
    "        ...\n",
    "    \n",
    "    def backward(self, dvalues, y_true):\n",
    "        ...\n",
    "        \n",
    "        # Gradienten berechnen\n",
    "        ...\n",
    "        \n",
    "        # Gradienten normalisieren\n",
    "        ..."
   ]
  },
  {
   "cell_type": "code",
   "execution_count": 17,
   "id": "5080e820",
   "metadata": {
    "tags": [
     "solution"
    ]
   },
   "outputs": [],
   "source": [
    "class Loss_MeanSquaredError(Loss):\n",
    "    def forward(self, y_pred, y_true):\n",
    "        samples_losses = np.mean((y_true - y_pred)**2, axis=-1)\n",
    "        return samples_losses\n",
    "    \n",
    "    def backward(self, dvalues, y_true):\n",
    "        samples = len(dvalues)\n",
    "        outputs = len(dvalues[0])\n",
    "        \n",
    "        # Gradienten berechnen\n",
    "        self.dinputs = -2 * (y_true - dvalues) / outputs\n",
    "        \n",
    "        # Gradienten normalisieren\n",
    "        self.dinputs = self.dinputs / samples"
   ]
  },
  {
   "cell_type": "code",
   "execution_count": null,
   "id": "0d363d37",
   "metadata": {},
   "outputs": [],
   "source": [
    "class Loss_MeanAbsoluteError(Loss):\n",
    "    def forward(self, y_pred, y_true):\n",
    "        ...\n",
    "    \n",
    "    def backward(self, dvalues, y_true):\n",
    "        ...."
   ]
  },
  {
   "cell_type": "code",
   "execution_count": 18,
   "id": "ed7e38cc",
   "metadata": {
    "tags": [
     "solution"
    ]
   },
   "outputs": [],
   "source": [
    "class Loss_MeanAbsoluteError(Loss):\n",
    "    def forward(self, y_pred, y_true):\n",
    "        sample_losses = np.mean(np.abs(y_true - y_pred), axis=-1)\n",
    "        return sample_losses\n",
    "    \n",
    "    def backward(self, dvalues, y_true):\n",
    "        samples = len(dvalues)\n",
    "        outputs = len(dvalues[0])\n",
    "        \n",
    "        self.dinputs = np.sign(y_true - dvalues) / outputs\n",
    "        self.dinputs = self.dinputs / samples"
   ]
  },
  {
   "cell_type": "markdown",
   "id": "191ab42b",
   "metadata": {},
   "source": [
    "## Evaluation"
   ]
  },
  {
   "cell_type": "code",
   "execution_count": 19,
   "id": "b2a7ed80",
   "metadata": {},
   "outputs": [
    {
     "name": "stdout",
     "output_type": "stream",
     "text": [
      "epoch: 0, acc: 0.002, loss: 0.500, data_loss: 0.500, reg_loss: 0.000, lr: 0.00100000\n",
      "epoch: 500, acc: 0.003, loss: 0.146, data_loss: 0.146, reg_loss: 0.000, lr: 0.00100000\n",
      "epoch: 1000, acc: 0.004, loss: 0.146, data_loss: 0.146, reg_loss: 0.000, lr: 0.00100000\n",
      "epoch: 1500, acc: 0.004, loss: 0.145, data_loss: 0.145, reg_loss: 0.000, lr: 0.00100000\n",
      "epoch: 2000, acc: 0.003, loss: 0.145, data_loss: 0.145, reg_loss: 0.000, lr: 0.00100000\n",
      "epoch: 2500, acc: 0.003, loss: 0.145, data_loss: 0.145, reg_loss: 0.000, lr: 0.00100000\n",
      "epoch: 3000, acc: 0.004, loss: 0.145, data_loss: 0.145, reg_loss: 0.000, lr: 0.00100000\n",
      "epoch: 3500, acc: 0.003, loss: 0.145, data_loss: 0.145, reg_loss: 0.000, lr: 0.00100000\n",
      "epoch: 4000, acc: 0.004, loss: 0.145, data_loss: 0.145, reg_loss: 0.000, lr: 0.00100000\n",
      "epoch: 4500, acc: 0.004, loss: 0.145, data_loss: 0.145, reg_loss: 0.000, lr: 0.00100000\n",
      "epoch: 5000, acc: 0.003, loss: 0.145, data_loss: 0.145, reg_loss: 0.000, lr: 0.00100000\n",
      "epoch: 5500, acc: 0.004, loss: 0.145, data_loss: 0.145, reg_loss: 0.000, lr: 0.00100000\n",
      "epoch: 6000, acc: 0.003, loss: 0.145, data_loss: 0.145, reg_loss: 0.000, lr: 0.00100000\n",
      "epoch: 6500, acc: 0.003, loss: 0.145, data_loss: 0.145, reg_loss: 0.000, lr: 0.00100000\n",
      "epoch: 7000, acc: 0.003, loss: 0.145, data_loss: 0.145, reg_loss: 0.000, lr: 0.00100000\n",
      "epoch: 7500, acc: 0.004, loss: 0.145, data_loss: 0.145, reg_loss: 0.000, lr: 0.00100000\n",
      "epoch: 8000, acc: 0.004, loss: 0.145, data_loss: 0.145, reg_loss: 0.000, lr: 0.00100000\n",
      "epoch: 8500, acc: 0.004, loss: 0.145, data_loss: 0.145, reg_loss: 0.000, lr: 0.00100000\n",
      "epoch: 9000, acc: 0.004, loss: 0.145, data_loss: 0.145, reg_loss: 0.000, lr: 0.00100000\n",
      "epoch: 9500, acc: 0.003, loss: 0.145, data_loss: 0.145, reg_loss: 0.000, lr: 0.00100000\n",
      "epoch: 10000, acc: 0.004, loss: 0.145, data_loss: 0.145, reg_loss: 0.000, lr: 0.00100000\n"
     ]
    },
    {
     "data": {
      "text/plain": [
       "array([<AxesSubplot:>, <AxesSubplot:>, <AxesSubplot:>], dtype=object)"
      ]
     },
     "execution_count": 19,
     "metadata": {},
     "output_type": "execute_result"
    },
    {
     "data": {
      "image/png": "[encoded data removed]",
      "text/plain": [
       "<Figure size 432x288 with 3 Axes>"
      ]
     },
     "metadata": {
      "needs_background": "light"
     },
     "output_type": "display_data"
    }
   ],
   "source": [
    "X, y = sine_data()\n",
    "\n",
    "dense1 = Layer_Dense(1, 64)\n",
    "activation1 = Activation_ReLU()\n",
    "\n",
    "dense2 = Layer_Dense(64, 1)\n",
    "activation2 = Activation_Linear()\n",
    "\n",
    "loss_function = Loss_MeanSquaredError()\n",
    "\n",
    "optimizer = Optimizer_Adam()\n",
    "\n",
    "accuracy_band = np.std(y) / 250\n",
    "\n",
    "losses = []\n",
    "accuracies = []\n",
    "learning_rates = []\n",
    "\n",
    "for epoch in range(10001):\n",
    "    dense1.forward(X)\n",
    "    activation1.forward(dense1.output)\n",
    "    \n",
    "    dense2.forward(activation1.output)\n",
    "    activation2.forward(dense2.output)\n",
    "    \n",
    "    data_loss = loss_function.calculate(activation2.output, y)\n",
    "    regularization_loss = loss_function.regularization_loss(dense1) + loss_function.regularization_loss(dense2)\n",
    "    loss = data_loss + regularization_loss\n",
    "    losses.append(loss)\n",
    "    \n",
    "    predictions = activation2.output\n",
    "    accuracy = np.mean(np.abs(predictions - y) < accuracy_band)\n",
    "    accuracies.append(accuracy)\n",
    "    \n",
    "    if not epoch % 500:\n",
    "        print(f'epoch: {epoch}, ' +\n",
    "              f'acc: {accuracy:.3f}, '+\n",
    "              f'loss: {loss:.3f}, ' +\n",
    "              f'data_loss: {data_loss:.3f}, ' +\n",
    "              f'reg_loss: {regularization_loss:.3f}, ' +\n",
    "              f'lr: {optimizer.current_learning_rate:.8f}')\n",
    "        \n",
    "    # Backward pass\n",
    "    loss_function.backward(activation2.output, y)\n",
    "    activation2.backward(loss_function.dinputs)\n",
    "    dense2.backward(activation2.dinputs)\n",
    "    activation1.backward(dense2.dinputs)\n",
    "    dense1.backward(activation1.dinputs)\n",
    "    \n",
    "    learning_rates.append(optimizer.current_learning_rate)\n",
    "\n",
    "    # Update weights and biases\n",
    "    optimizer.pre_update_params()\n",
    "    optimizer.update_params(dense1)\n",
    "    optimizer.update_params(dense2)\n",
    "    optimizer.post_update_params()\n",
    "\n",
    "df = pd.DataFrame([losses, accuracies, learning_rates]).T\n",
    "df = df.rename({0: \"loss\", 1: \"accuracy\", 2: \"learning_rate\"}, axis=\"columns\")\n",
    "df.plot(subplots=True, sharex=True, sharey=False)"
   ]
  },
  {
   "cell_type": "code",
   "execution_count": 20,
   "id": "15418c1e",
   "metadata": {},
   "outputs": [
    {
     "data": {
      "image/png": "[encoded data removed]",
      "text/plain": [
       "<Figure size 432x288 with 1 Axes>"
      ]
     },
     "metadata": {
      "needs_background": "light"
     },
     "output_type": "display_data"
    }
   ],
   "source": [
    "plt.figure()\n",
    "X_test, y_test = sine_data()\n",
    "dense1.forward(X_test)\n",
    "activation1.forward(dense1.output)\n",
    "dense2.forward(activation1.output)\n",
    "activation2.forward(dense2.output)\n",
    "plt.plot(X_test, y_test)\n",
    "plt.plot(X_test, activation2.output)\n",
    "plt.show()"
   ]
  },
  {
   "cell_type": "code",
   "execution_count": 22,
   "id": "df731c71",
   "metadata": {
    "tags": [
     "solution"
    ]
   },
   "outputs": [
    {
     "name": "stdout",
     "output_type": "stream",
     "text": [
      "epoch: 0, acc: 0.002, loss: 0.500, data_loss: 0.500, reg_loss: 0.000, lr: 0.05000000\n",
      "epoch: 500, acc: 0.055, loss: 0.031, data_loss: 0.031, reg_loss: 0.000, lr: 0.03335557\n",
      "epoch: 1000, acc: 0.136, loss: 0.031, data_loss: 0.031, reg_loss: 0.000, lr: 0.02501251\n",
      "epoch: 1500, acc: 0.127, loss: 0.031, data_loss: 0.031, reg_loss: 0.000, lr: 0.02000800\n",
      "epoch: 2000, acc: 0.172, loss: 0.031, data_loss: 0.031, reg_loss: 0.000, lr: 0.01667222\n",
      "epoch: 2500, acc: 0.020, loss: 0.031, data_loss: 0.031, reg_loss: 0.000, lr: 0.01428980\n",
      "epoch: 3000, acc: 0.190, loss: 0.031, data_loss: 0.031, reg_loss: 0.000, lr: 0.01250313\n",
      "epoch: 3500, acc: 0.078, loss: 0.031, data_loss: 0.031, reg_loss: 0.000, lr: 0.01111358\n",
      "epoch: 4000, acc: 0.204, loss: 0.031, data_loss: 0.031, reg_loss: 0.000, lr: 0.01000200\n",
      "epoch: 4500, acc: 0.175, loss: 0.031, data_loss: 0.031, reg_loss: 0.000, lr: 0.00909256\n",
      "epoch: 5000, acc: 0.190, loss: 0.031, data_loss: 0.031, reg_loss: 0.000, lr: 0.00833472\n",
      "epoch: 5500, acc: 0.094, loss: 0.031, data_loss: 0.031, reg_loss: 0.000, lr: 0.00769349\n",
      "epoch: 6000, acc: 0.269, loss: 0.031, data_loss: 0.031, reg_loss: 0.000, lr: 0.00714388\n",
      "epoch: 6500, acc: 0.237, loss: 0.031, data_loss: 0.031, reg_loss: 0.000, lr: 0.00666756\n",
      "epoch: 7000, acc: 0.241, loss: 0.031, data_loss: 0.031, reg_loss: 0.000, lr: 0.00625078\n",
      "epoch: 7500, acc: 0.172, loss: 0.031, data_loss: 0.031, reg_loss: 0.000, lr: 0.00588305\n",
      "epoch: 8000, acc: 0.210, loss: 0.031, data_loss: 0.031, reg_loss: 0.000, lr: 0.00555617\n",
      "epoch: 8500, acc: 0.195, loss: 0.031, data_loss: 0.031, reg_loss: 0.000, lr: 0.00526371\n",
      "epoch: 9000, acc: 0.222, loss: 0.031, data_loss: 0.031, reg_loss: 0.000, lr: 0.00500050\n",
      "epoch: 9500, acc: 0.190, loss: 0.031, data_loss: 0.031, reg_loss: 0.000, lr: 0.00476236\n",
      "epoch: 10000, acc: 0.214, loss: 0.031, data_loss: 0.031, reg_loss: 0.000, lr: 0.00454587\n"
     ]
    },
    {
     "data": {
      "image/png": "[encoded data removed]",
      "text/plain": [
       "<Figure size 432x288 with 3 Axes>"
      ]
     },
     "metadata": {
      "needs_background": "light"
     },
     "output_type": "display_data"
    },
    {
     "data": {
      "image/png": "[encoded data removed]",
      "text/plain": [
       "<Figure size 432x288 with 1 Axes>"
      ]
     },
     "metadata": {
      "needs_background": "light"
     },
     "output_type": "display_data"
    }
   ],
   "source": [
    "# More aggressive LR + add layer\n",
    "X, y = sine_data()\n",
    "\n",
    "dense1 = Layer_Dense(1, 64)\n",
    "activation1 = Activation_ReLU()\n",
    "\n",
    "dense2 = Layer_Dense(64, 64)\n",
    "activation2 = Activation_ReLU()\n",
    "\n",
    "dense3 = Layer_Dense(64, 1)\n",
    "activation3 = Activation_Linear()\n",
    "\n",
    "loss_function = Loss_MeanSquaredError()\n",
    "\n",
    "optimizer = Optimizer_Adam(learning_rate=0.05, decay=1e-3)\n",
    "\n",
    "accuracy_band = np.std(y) / 250\n",
    "\n",
    "losses = []\n",
    "accuracies = []\n",
    "learning_rates = []\n",
    "\n",
    "for epoch in range(10001):\n",
    "    dense1.forward(X)\n",
    "    activation1.forward(dense1.output)\n",
    "    \n",
    "    dense2.forward(activation1.output)\n",
    "    activation2.forward(dense2.output)\n",
    "    \n",
    "    dense3.forward(activation2.output)\n",
    "    activation3.forward(dense3.output)\n",
    "    \n",
    "    data_loss = loss_function.calculate(activation3.output, y)\n",
    "    regularization_loss = loss_function.regularization_loss(dense1) + \\\n",
    "                          loss_function.regularization_loss(dense2) + \\\n",
    "                          loss_function.regularization_loss(dense3)\n",
    "    loss = data_loss + regularization_loss\n",
    "    losses.append(loss)\n",
    "    \n",
    "    predictions = activation3.output\n",
    "    accuracy = np.mean(np.abs(predictions - y) < accuracy_band)\n",
    "    accuracies.append(accuracy)\n",
    "    \n",
    "    if not epoch % 500:\n",
    "        print(f'epoch: {epoch}, ' +\n",
    "              f'acc: {accuracy:.3f}, '+\n",
    "              f'loss: {loss:.3f}, ' +\n",
    "              f'data_loss: {data_loss:.3f}, ' +\n",
    "              f'reg_loss: {regularization_loss:.3f}, ' +\n",
    "              f'lr: {optimizer.current_learning_rate:.8f}')\n",
    "        \n",
    "    # Backward pass\n",
    "    loss_function.backward(activation3.output, y)\n",
    "    activation3.backward(loss_function.dinputs)\n",
    "    dense3.backward(activation3.dinputs)\n",
    "    activation2.backward(dense3.dinputs)\n",
    "    dense2.backward(activation2.dinputs)\n",
    "    activation1.backward(dense2.dinputs)\n",
    "    dense1.backward(activation1.dinputs)\n",
    "    \n",
    "    learning_rates.append(optimizer.current_learning_rate)\n",
    "\n",
    "    # Update weights and biases\n",
    "    optimizer.pre_update_params()\n",
    "    optimizer.update_params(dense1)\n",
    "    optimizer.update_params(dense2)\n",
    "    optimizer.update_params(dense3)\n",
    "    optimizer.post_update_params()\n",
    "\n",
    "df = pd.DataFrame([losses, accuracies, learning_rates]).T\n",
    "df = df.rename({0: \"loss\", 1: \"accuracy\", 2: \"learning_rate\"}, axis=\"columns\")\n",
    "df.plot(subplots=True, sharex=True, sharey=False)\n",
    "\n",
    "plt.figure()\n",
    "X_test, y_test = sine_data()\n",
    "dense1.forward(X_test)\n",
    "activation1.forward(dense1.output)\n",
    "dense2.forward(activation1.output)\n",
    "activation2.forward(dense2.output)\n",
    "dense3.forward(activation2.output)\n",
    "activation3.forward(dense3.output)\n",
    "plt.plot(X_test, y_test)\n",
    "plt.plot(X_test, activation3.output)\n",
    "plt.show()"
   ]
  },
  {
   "cell_type": "code",
   "execution_count": 25,
   "id": "baca027c",
   "metadata": {
    "tags": [
     "solution"
    ]
   },
   "outputs": [
    {
     "name": "stdout",
     "output_type": "stream",
     "text": [
      "epoch: 0, acc: 0.002, loss: 0.500, data_loss: 0.500, reg_loss: 0.000, lr: 0.00500000\n",
      "epoch: 500, acc: 0.312, loss: 0.031, data_loss: 0.031, reg_loss: 0.000, lr: 0.00333556\n",
      "epoch: 1000, acc: 0.372, loss: 0.031, data_loss: 0.031, reg_loss: 0.000, lr: 0.00250125\n",
      "epoch: 1500, acc: 0.425, loss: 0.031, data_loss: 0.031, reg_loss: 0.000, lr: 0.00200080\n",
      "epoch: 2000, acc: 0.539, loss: 0.031, data_loss: 0.031, reg_loss: 0.000, lr: 0.00166722\n",
      "epoch: 2500, acc: 0.551, loss: 0.031, data_loss: 0.031, reg_loss: 0.000, lr: 0.00142898\n",
      "epoch: 3000, acc: 0.548, loss: 0.031, data_loss: 0.031, reg_loss: 0.000, lr: 0.00125031\n",
      "epoch: 3500, acc: 0.522, loss: 0.031, data_loss: 0.031, reg_loss: 0.000, lr: 0.00111136\n",
      "epoch: 4000, acc: 0.554, loss: 0.031, data_loss: 0.031, reg_loss: 0.000, lr: 0.00100020\n",
      "epoch: 4500, acc: 0.278, loss: 0.031, data_loss: 0.031, reg_loss: 0.000, lr: 0.00090926\n",
      "epoch: 5000, acc: 0.560, loss: 0.031, data_loss: 0.031, reg_loss: 0.000, lr: 0.00083347\n",
      "epoch: 5500, acc: 0.562, loss: 0.031, data_loss: 0.031, reg_loss: 0.000, lr: 0.00076935\n",
      "epoch: 6000, acc: 0.561, loss: 0.031, data_loss: 0.031, reg_loss: 0.000, lr: 0.00071439\n",
      "epoch: 6500, acc: 0.552, loss: 0.031, data_loss: 0.031, reg_loss: 0.000, lr: 0.00066676\n",
      "epoch: 7000, acc: 0.563, loss: 0.031, data_loss: 0.031, reg_loss: 0.000, lr: 0.00062508\n",
      "epoch: 7500, acc: 0.566, loss: 0.031, data_loss: 0.031, reg_loss: 0.000, lr: 0.00058830\n",
      "epoch: 8000, acc: 0.568, loss: 0.031, data_loss: 0.031, reg_loss: 0.000, lr: 0.00055562\n",
      "epoch: 8500, acc: 0.579, loss: 0.031, data_loss: 0.031, reg_loss: 0.000, lr: 0.00052637\n",
      "epoch: 9000, acc: 0.578, loss: 0.031, data_loss: 0.031, reg_loss: 0.000, lr: 0.00050005\n",
      "epoch: 9500, acc: 0.580, loss: 0.031, data_loss: 0.031, reg_loss: 0.000, lr: 0.00047624\n",
      "epoch: 10000, acc: 0.582, loss: 0.031, data_loss: 0.031, reg_loss: 0.000, lr: 0.00045459\n"
     ]
    },
    {
     "data": {
      "image/png": "[encoded data removed]",
      "text/plain": [
       "<Figure size 432x288 with 3 Axes>"
      ]
     },
     "metadata": {
      "needs_background": "light"
     },
     "output_type": "display_data"
    },
    {
     "data": {
      "image/png": "[encoded data removed]",
      "text/plain": [
       "<Figure size 432x288 with 1 Axes>"
      ]
     },
     "metadata": {
      "needs_background": "light"
     },
     "output_type": "display_data"
    }
   ],
   "source": [
    "X, y = sine_data()\n",
    "\n",
    "dense1 = Layer_Dense(1, 64)\n",
    "activation1 = Activation_ReLU()\n",
    "\n",
    "dense2 = Layer_Dense(64, 64)\n",
    "activation2 = Activation_ReLU()\n",
    "\n",
    "dense3 = Layer_Dense(64, 1)\n",
    "activation3 = Activation_Linear()\n",
    "\n",
    "loss_function = Loss_MeanSquaredError()\n",
    "\n",
    "optimizer = Optimizer_Adam(learning_rate=0.005, decay=1e-3)\n",
    "\n",
    "accuracy_band = np.std(y) / 250\n",
    "\n",
    "losses = []\n",
    "accuracies = []\n",
    "learning_rates = []\n",
    "\n",
    "for epoch in range(10001):\n",
    "    dense1.forward(X)\n",
    "    activation1.forward(dense1.output)\n",
    "    \n",
    "    dense2.forward(activation1.output)\n",
    "    activation2.forward(dense2.output)\n",
    "    \n",
    "    dense3.forward(activation2.output)\n",
    "    activation3.forward(dense3.output)\n",
    "    \n",
    "    data_loss = loss_function.calculate(activation3.output, y)\n",
    "    regularization_loss = loss_function.regularization_loss(dense1) + \\\n",
    "                          loss_function.regularization_loss(dense2) + \\\n",
    "                          loss_function.regularization_loss(dense3)\n",
    "    loss = data_loss + regularization_loss\n",
    "    losses.append(loss)\n",
    "    \n",
    "    predictions = activation3.output\n",
    "    accuracy = np.mean(np.abs(predictions - y) < accuracy_band)\n",
    "    accuracies.append(accuracy)\n",
    "    \n",
    "    if not epoch % 500:\n",
    "        print(f'epoch: {epoch}, ' +\n",
    "              f'acc: {accuracy:.3f}, '+\n",
    "              f'loss: {loss:.3f}, ' +\n",
    "              f'data_loss: {data_loss:.3f}, ' +\n",
    "              f'reg_loss: {regularization_loss:.3f}, ' +\n",
    "              f'lr: {optimizer.current_learning_rate:.8f}')\n",
    "        \n",
    "    # Backward pass\n",
    "    loss_function.backward(activation3.output, y)\n",
    "    activation3.backward(loss_function.dinputs)\n",
    "    dense3.backward(activation3.dinputs)\n",
    "    activation2.backward(dense3.dinputs)\n",
    "    dense2.backward(activation2.dinputs)\n",
    "    activation1.backward(dense2.dinputs)\n",
    "    dense1.backward(activation1.dinputs)\n",
    "    \n",
    "    learning_rates.append(optimizer.current_learning_rate)\n",
    "\n",
    "    # Update weights and biases\n",
    "    optimizer.pre_update_params()\n",
    "    optimizer.update_params(dense1)\n",
    "    optimizer.update_params(dense2)\n",
    "    optimizer.update_params(dense3)\n",
    "    optimizer.post_update_params()\n",
    "\n",
    "df = pd.DataFrame([losses, accuracies, learning_rates]).T\n",
    "df = df.rename({0: \"loss\", 1: \"accuracy\", 2: \"learning_rate\"}, axis=\"columns\")\n",
    "df.plot(subplots=True, sharex=True, sharey=False)\n",
    "\n",
    "plt.figure()\n",
    "X_test, y_test = sine_data()\n",
    "dense1.forward(X_test)\n",
    "activation1.forward(dense1.output)\n",
    "dense2.forward(activation1.output)\n",
    "activation2.forward(dense2.output)\n",
    "dense3.forward(activation2.output)\n",
    "activation3.forward(dense3.output)\n",
    "plt.plot(X_test, y_test)\n",
    "plt.plot(X_test, activation3.output)\n",
    "plt.show()"
   ]
  },
  {
   "cell_type": "code",
   "execution_count": 26,
   "id": "07c14cea",
   "metadata": {
    "tags": [
     "solution"
    ]
   },
   "outputs": [],
   "source": [
    "# Increase initial weights to improve model training\n",
    "\n",
    "# Dense Layer\n",
    "class Layer_Dense:\n",
    "\n",
    "    # Initialization Code\n",
    "    def __init__(self, n_inputs, n_neurons,\n",
    "                 weight_regularizer_l1=0, weight_regularizer_l2=0,\n",
    "                 bias_regularizer_l1=0, bias_regularizer_l2=0):\n",
    "        # Initilalize weights and biases according to the shape given\n",
    "        self.weights = 0.1 * np.random.randn(n_inputs, n_neurons)\n",
    "        self.biases = np.zeros((1, n_neurons))\n",
    "        \n",
    "        # Save Regularization Lambdas\n",
    "        self.weight_regularizer_l1 = weight_regularizer_l1\n",
    "        self.weight_regularizer_l2 = weight_regularizer_l2\n",
    "        self.bias_regularizer_l1 = bias_regularizer_l1\n",
    "        self.bias_regularizer_l2 = bias_regularizer_l2\n",
    "\n",
    "    def forward(self, inputs):\n",
    "        self.inputs = inputs\n",
    "\n",
    "        # Calculate output as we did on the slides\n",
    "        self.output = np.dot(inputs, self.weights) + self.biases\n",
    "\n",
    "    def backward(self, dvalues):\n",
    "        # Gradients on parameters\n",
    "        self.dweights = np.dot(self.inputs.T, dvalues)\n",
    "        self.dbiases = np.sum(dvalues, axis=0, keepdims=True)\n",
    "        \n",
    "        # Regularisation\n",
    "        # L1 weights\n",
    "        if self.weight_regularizer_l1 > 0:\n",
    "            dL1 = np.ones_like(self.weights)\n",
    "            dL1[self.weights < 0] = -1\n",
    "            self.dweights += self.weight_regularizer_l1 * dL1\n",
    "            \n",
    "        # L2 weights\n",
    "        if self.weight_regularizer_l2 > 0:\n",
    "            self.dweights += 2 * self.weight_regularizer_l2 * self.weights\n",
    "            \n",
    "        # L1 biases\n",
    "        if self.bias_regularizer_l1 > 0:\n",
    "            dL1 = np.ones_like(self.biases)\n",
    "            dL1[self.biases < 0] = -1\n",
    "            self.dbiases += self.bias_regularizer_l1 * dL1\n",
    "            \n",
    "        # L2 biases\n",
    "        if self.bias_regularizer_l2 > 0:\n",
    "            self.dbiases += 2 * self.bias_regularizer_l2 * self.biases\n",
    "\n",
    "        # Gradients on values\n",
    "        self.dinputs = np.dot(dvalues, self.weights.T)"
   ]
  },
  {
   "cell_type": "code",
   "execution_count": 27,
   "id": "3ec34b6b",
   "metadata": {
    "tags": [
     "solution"
    ]
   },
   "outputs": [
    {
     "name": "stdout",
     "output_type": "stream",
     "text": [
      "epoch: 0, acc: 0.002, loss: 0.501, data_loss: 0.501, reg_loss: 0.000, lr: 0.00100000\n",
      "epoch: 500, acc: 0.004, loss: 0.161, data_loss: 0.161, reg_loss: 0.000, lr: 0.00100000\n",
      "epoch: 1000, acc: 0.003, loss: 0.158, data_loss: 0.158, reg_loss: 0.000, lr: 0.00100000\n",
      "epoch: 1500, acc: 0.003, loss: 0.153, data_loss: 0.153, reg_loss: 0.000, lr: 0.00100000\n",
      "epoch: 2000, acc: 0.005, loss: 0.143, data_loss: 0.143, reg_loss: 0.000, lr: 0.00100000\n",
      "epoch: 2500, acc: 0.005, loss: 0.139, data_loss: 0.139, reg_loss: 0.000, lr: 0.00100000\n",
      "epoch: 3000, acc: 0.015, loss: 0.137, data_loss: 0.137, reg_loss: 0.000, lr: 0.00100000\n",
      "epoch: 3500, acc: 0.052, loss: 0.137, data_loss: 0.137, reg_loss: 0.000, lr: 0.00100000\n",
      "epoch: 4000, acc: 0.075, loss: 0.137, data_loss: 0.137, reg_loss: 0.000, lr: 0.00100000\n",
      "epoch: 4500, acc: 0.091, loss: 0.137, data_loss: 0.137, reg_loss: 0.000, lr: 0.00100000\n",
      "epoch: 5000, acc: 0.107, loss: 0.137, data_loss: 0.137, reg_loss: 0.000, lr: 0.00100000\n",
      "epoch: 5500, acc: 0.117, loss: 0.137, data_loss: 0.137, reg_loss: 0.000, lr: 0.00100000\n",
      "epoch: 6000, acc: 0.129, loss: 0.137, data_loss: 0.137, reg_loss: 0.000, lr: 0.00100000\n",
      "epoch: 6500, acc: 0.137, loss: 0.137, data_loss: 0.137, reg_loss: 0.000, lr: 0.00100000\n",
      "epoch: 7000, acc: 0.146, loss: 0.137, data_loss: 0.137, reg_loss: 0.000, lr: 0.00100000\n",
      "epoch: 7500, acc: 0.154, loss: 0.137, data_loss: 0.137, reg_loss: 0.000, lr: 0.00100000\n",
      "epoch: 8000, acc: 0.169, loss: 0.137, data_loss: 0.137, reg_loss: 0.000, lr: 0.00100000\n",
      "epoch: 8500, acc: 0.175, loss: 0.137, data_loss: 0.137, reg_loss: 0.000, lr: 0.00100000\n",
      "epoch: 9000, acc: 0.177, loss: 0.137, data_loss: 0.137, reg_loss: 0.000, lr: 0.00100000\n",
      "epoch: 9500, acc: 0.180, loss: 0.137, data_loss: 0.137, reg_loss: 0.000, lr: 0.00100000\n",
      "epoch: 10000, acc: 0.179, loss: 0.137, data_loss: 0.137, reg_loss: 0.000, lr: 0.00100000\n"
     ]
    },
    {
     "data": {
      "text/plain": [
       "array([<AxesSubplot:>, <AxesSubplot:>, <AxesSubplot:>], dtype=object)"
      ]
     },
     "execution_count": 27,
     "metadata": {},
     "output_type": "execute_result"
    },
    {
     "data": {
      "image/png": "[encoded data removed]",
      "text/plain": [
       "<Figure size 432x288 with 3 Axes>"
      ]
     },
     "metadata": {
      "needs_background": "light"
     },
     "output_type": "display_data"
    }
   ],
   "source": [
    "X, y = sine_data()\n",
    "\n",
    "dense1 = Layer_Dense(1, 64)\n",
    "activation1 = Activation_ReLU()\n",
    "\n",
    "dense2 = Layer_Dense(64, 1)\n",
    "activation2 = Activation_Linear()\n",
    "\n",
    "loss_function = Loss_MeanSquaredError()\n",
    "\n",
    "optimizer = Optimizer_Adam()\n",
    "\n",
    "accuracy_band = np.std(y) / 250\n",
    "\n",
    "losses = []\n",
    "accuracies = []\n",
    "learning_rates = []\n",
    "\n",
    "for epoch in range(10001):\n",
    "    dense1.forward(X)\n",
    "    activation1.forward(dense1.output)\n",
    "    \n",
    "    dense2.forward(activation1.output)\n",
    "    activation2.forward(dense2.output)\n",
    "    \n",
    "    data_loss = loss_function.calculate(activation2.output, y)\n",
    "    regularization_loss = loss_function.regularization_loss(dense1) + loss_function.regularization_loss(dense2)\n",
    "    loss = data_loss + regularization_loss\n",
    "    losses.append(loss)\n",
    "    \n",
    "    predictions = activation2.output\n",
    "    accuracy = np.mean(np.abs(predictions - y) < accuracy_band)\n",
    "    accuracies.append(accuracy)\n",
    "    \n",
    "    if not epoch % 500:\n",
    "        print(f'epoch: {epoch}, ' +\n",
    "              f'acc: {accuracy:.3f}, '+\n",
    "              f'loss: {loss:.3f}, ' +\n",
    "              f'data_loss: {data_loss:.3f}, ' +\n",
    "              f'reg_loss: {regularization_loss:.3f}, ' +\n",
    "              f'lr: {optimizer.current_learning_rate:.8f}')\n",
    "        \n",
    "    # Backward pass\n",
    "    loss_function.backward(activation2.output, y)\n",
    "    activation2.backward(loss_function.dinputs)\n",
    "    dense2.backward(activation2.dinputs)\n",
    "    activation1.backward(dense2.dinputs)\n",
    "    dense1.backward(activation1.dinputs)\n",
    "    \n",
    "    learning_rates.append(optimizer.current_learning_rate)\n",
    "\n",
    "    # Update weights and biases\n",
    "    optimizer.pre_update_params()\n",
    "    optimizer.update_params(dense1)\n",
    "    optimizer.update_params(dense2)\n",
    "    optimizer.post_update_params()\n",
    "\n",
    "df = pd.DataFrame([losses, accuracies, learning_rates]).T\n",
    "df = df.rename({0: \"loss\", 1: \"accuracy\", 2: \"learning_rate\"}, axis=\"columns\")\n",
    "df.plot(subplots=True, sharex=True, sharey=False)"
   ]
  },
  {
   "cell_type": "code",
   "execution_count": 28,
   "id": "54fb6318",
   "metadata": {
    "tags": [
     "solution"
    ]
   },
   "outputs": [
    {
     "data": {
      "image/png": "[encoded data removed]",
      "text/plain": [
       "<Figure size 432x288 with 1 Axes>"
      ]
     },
     "metadata": {
      "needs_background": "light"
     },
     "output_type": "display_data"
    }
   ],
   "source": [
    "plt.figure()\n",
    "X_test, y_test = sine_data()\n",
    "dense1.forward(X_test)\n",
    "activation1.forward(dense1.output)\n",
    "dense2.forward(activation1.output)\n",
    "activation2.forward(dense2.output)\n",
    "plt.plot(X_test, y_test)\n",
    "plt.plot(X_test, activation2.output)\n",
    "plt.show()"
   ]
  },
  {
   "cell_type": "code",
   "execution_count": 31,
   "id": "940f1b90",
   "metadata": {
    "tags": [
     "solution"
    ]
   },
   "outputs": [
    {
     "name": "stdout",
     "output_type": "stream",
     "text": [
      "epoch: 0, acc: 0.002, loss: 0.517, data_loss: 0.517, reg_loss: 0.000, lr: 0.00100000\n",
      "epoch: 500, acc: 0.021, loss: 0.045, data_loss: 0.045, reg_loss: 0.000, lr: 0.00100000\n",
      "epoch: 1000, acc: 0.497, loss: 0.000, data_loss: 0.000, reg_loss: 0.000, lr: 0.00100000\n",
      "epoch: 1500, acc: 0.649, loss: 0.000, data_loss: 0.000, reg_loss: 0.000, lr: 0.00100000\n",
      "epoch: 2000, acc: 0.658, loss: 0.000, data_loss: 0.000, reg_loss: 0.000, lr: 0.00100000\n",
      "epoch: 2500, acc: 0.342, loss: 0.000, data_loss: 0.000, reg_loss: 0.000, lr: 0.00100000\n",
      "epoch: 3000, acc: 0.701, loss: 0.000, data_loss: 0.000, reg_loss: 0.000, lr: 0.00100000\n",
      "epoch: 3500, acc: 0.733, loss: 0.000, data_loss: 0.000, reg_loss: 0.000, lr: 0.00100000\n",
      "epoch: 4000, acc: 0.731, loss: 0.000, data_loss: 0.000, reg_loss: 0.000, lr: 0.00100000\n",
      "epoch: 4500, acc: 0.760, loss: 0.000, data_loss: 0.000, reg_loss: 0.000, lr: 0.00100000\n",
      "epoch: 5000, acc: 0.784, loss: 0.000, data_loss: 0.000, reg_loss: 0.000, lr: 0.00100000\n",
      "epoch: 5500, acc: 0.798, loss: 0.000, data_loss: 0.000, reg_loss: 0.000, lr: 0.00100000\n",
      "epoch: 6000, acc: 0.807, loss: 0.000, data_loss: 0.000, reg_loss: 0.000, lr: 0.00100000\n",
      "epoch: 6500, acc: 0.807, loss: 0.000, data_loss: 0.000, reg_loss: 0.000, lr: 0.00100000\n",
      "epoch: 7000, acc: 0.822, loss: 0.000, data_loss: 0.000, reg_loss: 0.000, lr: 0.00100000\n",
      "epoch: 7500, acc: 0.840, loss: 0.000, data_loss: 0.000, reg_loss: 0.000, lr: 0.00100000\n",
      "epoch: 8000, acc: 0.214, loss: 0.000, data_loss: 0.000, reg_loss: 0.000, lr: 0.00100000\n",
      "epoch: 8500, acc: 0.860, loss: 0.000, data_loss: 0.000, reg_loss: 0.000, lr: 0.00100000\n",
      "epoch: 9000, acc: 0.861, loss: 0.000, data_loss: 0.000, reg_loss: 0.000, lr: 0.00100000\n",
      "epoch: 9500, acc: 0.849, loss: 0.000, data_loss: 0.000, reg_loss: 0.000, lr: 0.00100000\n",
      "epoch: 10000, acc: 0.862, loss: 0.000, data_loss: 0.000, reg_loss: 0.000, lr: 0.00100000\n"
     ]
    },
    {
     "data": {
      "image/png": "[encoded data removed]",
      "text/plain": [
       "<Figure size 432x288 with 3 Axes>"
      ]
     },
     "metadata": {
      "needs_background": "light"
     },
     "output_type": "display_data"
    },
    {
     "data": {
      "image/png": "[encoded data removed]",
      "text/plain": [
       "<Figure size 432x288 with 1 Axes>"
      ]
     },
     "metadata": {
      "needs_background": "light"
     },
     "output_type": "display_data"
    }
   ],
   "source": [
    "X, y = sine_data()\n",
    "\n",
    "dense1 = Layer_Dense(1, 64)\n",
    "activation1 = Activation_ReLU()\n",
    "\n",
    "dense2 = Layer_Dense(64, 64)\n",
    "activation2 = Activation_ReLU()\n",
    "\n",
    "dense3 = Layer_Dense(64, 1)\n",
    "activation3 = Activation_Linear()\n",
    "\n",
    "loss_function = Loss_MeanSquaredError()\n",
    "\n",
    "optimizer = Optimizer_Adam()\n",
    "\n",
    "accuracy_band = np.std(y) / 250\n",
    "\n",
    "losses = []\n",
    "accuracies = []\n",
    "learning_rates = []\n",
    "\n",
    "for epoch in range(10001):\n",
    "    dense1.forward(X)\n",
    "    activation1.forward(dense1.output)\n",
    "    \n",
    "    dense2.forward(activation1.output)\n",
    "    activation2.forward(dense2.output)\n",
    "    \n",
    "    dense3.forward(activation2.output)\n",
    "    activation3.forward(dense3.output)\n",
    "    \n",
    "    data_loss = loss_function.calculate(activation3.output, y)\n",
    "    regularization_loss = loss_function.regularization_loss(dense1) + \\\n",
    "                          loss_function.regularization_loss(dense2) + \\\n",
    "                          loss_function.regularization_loss(dense3)\n",
    "    loss = data_loss + regularization_loss\n",
    "    losses.append(loss)\n",
    "    \n",
    "    predictions = activation3.output\n",
    "    accuracy = np.mean(np.abs(predictions - y) < accuracy_band)\n",
    "    accuracies.append(accuracy)\n",
    "    \n",
    "    if not epoch % 500:\n",
    "        print(f'epoch: {epoch}, ' +\n",
    "              f'acc: {accuracy:.3f}, '+\n",
    "              f'loss: {loss:.3f}, ' +\n",
    "              f'data_loss: {data_loss:.3f}, ' +\n",
    "              f'reg_loss: {regularization_loss:.3f}, ' +\n",
    "              f'lr: {optimizer.current_learning_rate:.8f}')\n",
    "        \n",
    "    # Backward pass\n",
    "    loss_function.backward(activation3.output, y)\n",
    "    activation3.backward(loss_function.dinputs)\n",
    "    dense3.backward(activation3.dinputs)\n",
    "    activation2.backward(dense3.dinputs)\n",
    "    dense2.backward(activation2.dinputs)\n",
    "    activation1.backward(dense2.dinputs)\n",
    "    dense1.backward(activation1.dinputs)\n",
    "    \n",
    "    learning_rates.append(optimizer.current_learning_rate)\n",
    "\n",
    "    # Update weights and biases\n",
    "    optimizer.pre_update_params()\n",
    "    optimizer.update_params(dense1)\n",
    "    optimizer.update_params(dense2)\n",
    "    optimizer.update_params(dense3)\n",
    "    optimizer.post_update_params()\n",
    "\n",
    "df = pd.DataFrame([losses, accuracies, learning_rates]).T\n",
    "df = df.rename({0: \"loss\", 1: \"accuracy\", 2: \"learning_rate\"}, axis=\"columns\")\n",
    "df.plot(subplots=True, sharex=True, sharey=False)\n",
    "\n",
    "plt.figure()\n",
    "X_test, y_test = sine_data()\n",
    "dense1.forward(X_test)\n",
    "activation1.forward(dense1.output)\n",
    "dense2.forward(activation1.output)\n",
    "activation2.forward(dense2.output)\n",
    "dense3.forward(activation2.output)\n",
    "activation3.forward(dense3.output)\n",
    "plt.plot(X_test, y_test)\n",
    "plt.plot(X_test, activation3.output)\n",
    "plt.show()"
   ]
  },
  {
   "cell_type": "code",
   "execution_count": 30,
   "id": "02edbcf5",
   "metadata": {
    "tags": [
     "solution"
    ]
   },
   "outputs": [
    {
     "name": "stdout",
     "output_type": "stream",
     "text": [
      "epoch: 0, acc: 0.002, loss: 0.498, data_loss: 0.498, reg_loss: 0.000, lr: 0.00500000\n",
      "epoch: 500, acc: 0.601, loss: 0.000, data_loss: 0.000, reg_loss: 0.000, lr: 0.00333556\n",
      "epoch: 1000, acc: 0.717, loss: 0.000, data_loss: 0.000, reg_loss: 0.000, lr: 0.00250125\n",
      "epoch: 1500, acc: 0.757, loss: 0.000, data_loss: 0.000, reg_loss: 0.000, lr: 0.00200080\n",
      "epoch: 2000, acc: 0.786, loss: 0.000, data_loss: 0.000, reg_loss: 0.000, lr: 0.00166722\n",
      "epoch: 2500, acc: 0.792, loss: 0.000, data_loss: 0.000, reg_loss: 0.000, lr: 0.00142898\n",
      "epoch: 3000, acc: 0.804, loss: 0.000, data_loss: 0.000, reg_loss: 0.000, lr: 0.00125031\n",
      "epoch: 3500, acc: 0.812, loss: 0.000, data_loss: 0.000, reg_loss: 0.000, lr: 0.00111136\n",
      "epoch: 4000, acc: 0.738, loss: 0.000, data_loss: 0.000, reg_loss: 0.000, lr: 0.00100020\n",
      "epoch: 4500, acc: 0.813, loss: 0.000, data_loss: 0.000, reg_loss: 0.000, lr: 0.00090926\n",
      "epoch: 5000, acc: 0.816, loss: 0.000, data_loss: 0.000, reg_loss: 0.000, lr: 0.00083347\n",
      "epoch: 5500, acc: 0.820, loss: 0.000, data_loss: 0.000, reg_loss: 0.000, lr: 0.00076935\n",
      "epoch: 6000, acc: 0.825, loss: 0.000, data_loss: 0.000, reg_loss: 0.000, lr: 0.00071439\n",
      "epoch: 6500, acc: 0.827, loss: 0.000, data_loss: 0.000, reg_loss: 0.000, lr: 0.00066676\n",
      "epoch: 7000, acc: 0.828, loss: 0.000, data_loss: 0.000, reg_loss: 0.000, lr: 0.00062508\n",
      "epoch: 7500, acc: 0.831, loss: 0.000, data_loss: 0.000, reg_loss: 0.000, lr: 0.00058830\n",
      "epoch: 8000, acc: 0.832, loss: 0.000, data_loss: 0.000, reg_loss: 0.000, lr: 0.00055562\n",
      "epoch: 8500, acc: 0.830, loss: 0.000, data_loss: 0.000, reg_loss: 0.000, lr: 0.00052637\n",
      "epoch: 9000, acc: 0.839, loss: 0.000, data_loss: 0.000, reg_loss: 0.000, lr: 0.00050005\n",
      "epoch: 9500, acc: 0.834, loss: 0.000, data_loss: 0.000, reg_loss: 0.000, lr: 0.00047624\n",
      "epoch: 10000, acc: 0.847, loss: 0.000, data_loss: 0.000, reg_loss: 0.000, lr: 0.00045459\n"
     ]
    },
    {
     "data": {
      "image/png": "[encoded data removed]",
      "text/plain": [
       "<Figure size 432x288 with 3 Axes>"
      ]
     },
     "metadata": {
      "needs_background": "light"
     },
     "output_type": "display_data"
    },
    {
     "data": {
      "image/png": "[encoded data removed]",
      "text/plain": [
       "<Figure size 432x288 with 1 Axes>"
      ]
     },
     "metadata": {
      "needs_background": "light"
     },
     "output_type": "display_data"
    }
   ],
   "source": [
    "X, y = sine_data()\n",
    "\n",
    "dense1 = Layer_Dense(1, 64)\n",
    "activation1 = Activation_ReLU()\n",
    "\n",
    "dense2 = Layer_Dense(64, 64)\n",
    "activation2 = Activation_ReLU()\n",
    "\n",
    "dense3 = Layer_Dense(64, 1)\n",
    "activation3 = Activation_Linear()\n",
    "\n",
    "loss_function = Loss_MeanSquaredError()\n",
    "\n",
    "optimizer = Optimizer_Adam(learning_rate=0.005, decay=1e-3)\n",
    "\n",
    "accuracy_band = np.std(y) / 250\n",
    "\n",
    "losses = []\n",
    "accuracies = []\n",
    "learning_rates = []\n",
    "\n",
    "for epoch in range(10001):\n",
    "    dense1.forward(X)\n",
    "    activation1.forward(dense1.output)\n",
    "    \n",
    "    dense2.forward(activation1.output)\n",
    "    activation2.forward(dense2.output)\n",
    "    \n",
    "    dense3.forward(activation2.output)\n",
    "    activation3.forward(dense3.output)\n",
    "    \n",
    "    data_loss = loss_function.calculate(activation3.output, y)\n",
    "    regularization_loss = loss_function.regularization_loss(dense1) + \\\n",
    "                          loss_function.regularization_loss(dense2) + \\\n",
    "                          loss_function.regularization_loss(dense3)\n",
    "    loss = data_loss + regularization_loss\n",
    "    losses.append(loss)\n",
    "    \n",
    "    predictions = activation3.output\n",
    "    accuracy = np.mean(np.abs(predictions - y) < accuracy_band)\n",
    "    accuracies.append(accuracy)\n",
    "    \n",
    "    if not epoch % 500:\n",
    "        print(f'epoch: {epoch}, ' +\n",
    "              f'acc: {accuracy:.3f}, '+\n",
    "              f'loss: {loss:.3f}, ' +\n",
    "              f'data_loss: {data_loss:.3f}, ' +\n",
    "              f'reg_loss: {regularization_loss:.3f}, ' +\n",
    "              f'lr: {optimizer.current_learning_rate:.8f}')\n",
    "        \n",
    "    # Backward pass\n",
    "    loss_function.backward(activation3.output, y)\n",
    "    activation3.backward(loss_function.dinputs)\n",
    "    dense3.backward(activation3.dinputs)\n",
    "    activation2.backward(dense3.dinputs)\n",
    "    dense2.backward(activation2.dinputs)\n",
    "    activation1.backward(dense2.dinputs)\n",
    "    dense1.backward(activation1.dinputs)\n",
    "    \n",
    "    learning_rates.append(optimizer.current_learning_rate)\n",
    "\n",
    "    # Update weights and biases\n",
    "    optimizer.pre_update_params()\n",
    "    optimizer.update_params(dense1)\n",
    "    optimizer.update_params(dense2)\n",
    "    optimizer.update_params(dense3)\n",
    "    optimizer.post_update_params()\n",
    "\n",
    "df = pd.DataFrame([losses, accuracies, learning_rates]).T\n",
    "df = df.rename({0: \"loss\", 1: \"accuracy\", 2: \"learning_rate\"}, axis=\"columns\")\n",
    "df.plot(subplots=True, sharex=True, sharey=False)\n",
    "\n",
    "plt.figure()\n",
    "X_test, y_test = sine_data()\n",
    "dense1.forward(X_test)\n",
    "activation1.forward(dense1.output)\n",
    "dense2.forward(activation1.output)\n",
    "activation2.forward(dense2.output)\n",
    "dense3.forward(activation2.output)\n",
    "activation3.forward(dense3.output)\n",
    "plt.plot(X_test, y_test)\n",
    "plt.plot(X_test, activation3.output)\n",
    "plt.show()"
   ]
  },
  {
   "cell_type": "code",
   "execution_count": null,
   "id": "3175fd26",
   "metadata": {},
   "outputs": [],
   "source": []
  }
 ],
 "metadata": {
  "celltoolbar": "Tags",
  "kernelspec": {
   "display_name": "Python 3 (ipykernel)",
   "language": "python",
   "name": "python3"
  },
  "language_info": {
   "codemirror_mode": {
    "name": "ipython",
    "version": 3
   },
   "file_extension": ".py",
   "mimetype": "text/x-python",
   "name": "python",
   "nbconvert_exporter": "python",
   "pygments_lexer": "ipython3",
   "version": "3.13.2"
  }
 },
 "nbformat": 4,
 "nbformat_minor": 5
}
