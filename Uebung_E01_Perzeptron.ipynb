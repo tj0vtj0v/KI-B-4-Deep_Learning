{
 "cells": [
  {
   "cell_type": "markdown",
   "id": "0",
   "metadata": {},
   "source": [
    "# Perzeptron\n",
    "Deep Learning - KI29  \n",
    "Deggendorf Institute of Technology  \n",
    "Prof. Dr. Florian Wahl"
   ]
  },
  {
   "cell_type": "markdown",
   "id": "1",
   "metadata": {},
   "source": [
    "## Teil 1: Perzeptron Beispiel ohne numpy\n",
    "1. Machen Sie sich mit Jupyter Notebooks vertraut\n",
    "2. Implementieren Sie ein Hello World\n",
    "3. Legen Sie die Listen `inputs`, `weights` mit je 4 Elementen (4 Eingänge, 1 Neuron) an, sowie die Variable `bias` an\n",
    "4. Berechnen Sie den Output (ohne Aktivierungsfunktion) \"händisch\", ohne Schleifen"
   ]
  },
  {
   "metadata": {
    "ExecuteTime": {
     "end_time": "2025-04-08T19:04:35.741828Z",
     "start_time": "2025-04-08T19:04:35.738780Z"
    }
   },
   "cell_type": "code",
   "source": "print(\"Hello World!\")",
   "id": "f40caaf4b060129b",
   "outputs": [
    {
     "name": "stdout",
     "output_type": "stream",
     "text": [
      "Hello World!\n"
     ]
    }
   ],
   "execution_count": 31
  },
  {
   "metadata": {
    "ExecuteTime": {
     "end_time": "2025-04-08T19:04:35.844157Z",
     "start_time": "2025-04-08T19:04:35.839299Z"
    }
   },
   "cell_type": "code",
   "source": [
    "inputs = [.1, .2, .3, .4]\n",
    "\n",
    "weights = [1, 0, -.5, .2]\n",
    "\n",
    "bias = .3\n",
    "\n",
    "output = inputs[0] * weights[0] + inputs[1] * weights[1] + inputs[2] * weights[2] + inputs[3] * weights[3] + bias\n",
    "\n",
    "print(output)"
   ],
   "id": "1f1c6ae93852d1a",
   "outputs": [
    {
     "name": "stdout",
     "output_type": "stream",
     "text": [
      "0.33\n"
     ]
    }
   ],
   "execution_count": 32
  },
  {
   "cell_type": "markdown",
   "id": "2",
   "metadata": {},
   "source": [
    "## Teil 2: Mehr Perzeptronen\n",
    "Erweitern Sie Ihr Beispiel um 2 weitere Perzeptronen."
   ]
  },
  {
   "metadata": {
    "ExecuteTime": {
     "end_time": "2025-04-08T19:04:35.953112Z",
     "start_time": "2025-04-08T19:04:35.948113Z"
    }
   },
   "cell_type": "code",
   "source": [
    "inputs = [.1, .2, .3, .4]\n",
    "\n",
    "weights1 = [1, 0, -.5, .2]\n",
    "weights2 = [1, -.5, .2, 0]\n",
    "weights3 = [.2, 1, -.5, 0]\n",
    "\n",
    "bias1 = .3\n",
    "bias2 = .1\n",
    "bias3 = -.5\n",
    "\n",
    "output1 = inputs[0] * weights1[0] + inputs[1] * weights1[1] + inputs[2] * weights1[2] + inputs[3] * weights1[3] + bias1\n",
    "output2 = inputs[0] * weights2[0] + inputs[1] * weights2[1] + inputs[2] * weights2[2] + inputs[3] * weights2[3] + bias2\n",
    "output3 = inputs[0] * weights3[0] + inputs[1] * weights3[1] + inputs[2] * weights3[2] + inputs[3] * weights3[3] + bias3\n",
    "\n",
    "print([output1, output2, output3])"
   ],
   "id": "ac21dbfc79eeda2e",
   "outputs": [
    {
     "name": "stdout",
     "output_type": "stream",
     "text": [
      "[0.33, 0.16, -0.42999999999999994]\n"
     ]
    }
   ],
   "execution_count": 33
  },
  {
   "cell_type": "markdown",
   "id": "3",
   "metadata": {},
   "source": [
    "## Teil 3: Perzeptron Beispiel mit numpy\n",
    "1. Machen Sie sich mit numpy arrays vertraut\n",
    "2. Implementieren Sie das Beispiel aus Teil 1.4, aber dieses Mal mit numpy und der Funktion `np.dot()`\n",
    "3. Implementieren Sie das Beispiel aus Teil 2, aber dieses Mal mit numpy und der Funktion `np.dot()`"
   ]
  },
  {
   "metadata": {
    "ExecuteTime": {
     "end_time": "2025-04-08T19:04:37.249968Z",
     "start_time": "2025-04-08T19:04:35.977963Z"
    }
   },
   "cell_type": "code",
   "source": "!pip install numpy",
   "id": "7876aa2f0bb8ccbc",
   "outputs": [
    {
     "name": "stdout",
     "output_type": "stream",
     "text": [
      "Requirement already satisfied: numpy in d:\\git\\ki-b-4-deep_learning\\.venv\\lib\\site-packages (2.2.4)\n"
     ]
    },
    {
     "name": "stderr",
     "output_type": "stream",
     "text": [
      "\n",
      "[notice] A new release of pip is available: 23.2.1 -> 25.0.1\n",
      "[notice] To update, run: python.exe -m pip install --upgrade pip\n"
     ]
    }
   ],
   "execution_count": 34
  },
  {
   "metadata": {
    "ExecuteTime": {
     "end_time": "2025-04-08T19:04:37.261459Z",
     "start_time": "2025-04-08T19:04:37.258484Z"
    }
   },
   "cell_type": "code",
   "source": "import numpy as np",
   "id": "fae6f497fa65b6fc",
   "outputs": [],
   "execution_count": 35
  },
  {
   "metadata": {
    "ExecuteTime": {
     "end_time": "2025-04-08T19:04:37.287678Z",
     "start_time": "2025-04-08T19:04:37.283515Z"
    }
   },
   "cell_type": "code",
   "source": [
    "np_inputs = np.array(inputs)\n",
    "\n",
    "np_weights = np.array(weights)\n",
    "\n",
    "output = np.dot(np_inputs, np_weights) + bias\n",
    "\n",
    "print(output)"
   ],
   "id": "b3ef1574a66d3667",
   "outputs": [
    {
     "name": "stdout",
     "output_type": "stream",
     "text": [
      "0.33\n"
     ]
    }
   ],
   "execution_count": 36
  },
  {
   "metadata": {
    "ExecuteTime": {
     "end_time": "2025-04-08T19:04:37.313693Z",
     "start_time": "2025-04-08T19:04:37.308686Z"
    }
   },
   "cell_type": "code",
   "source": [
    "np_inputs = np.array(inputs)\n",
    "\n",
    "np_weights1 = np.array(weights1)\n",
    "np_weights2 = np.array(weights2)\n",
    "np_weights3 = np.array(weights3)\n",
    "\n",
    "output1 = np.dot(np_inputs, np_weights1) + bias1\n",
    "output2 = np.dot(np_inputs, np_weights2) + bias2\n",
    "output3 = np.dot(np_inputs, np_weights3) + bias3\n",
    "\n",
    "print([output1, output2, output3])"
   ],
   "id": "c5d635cf90645829",
   "outputs": [
    {
     "name": "stdout",
     "output_type": "stream",
     "text": [
      "[np.float64(0.33), np.float64(0.16), np.float64(-0.42999999999999994)]\n"
     ]
    }
   ],
   "execution_count": 37
  },
  {
   "metadata": {
    "ExecuteTime": {
     "end_time": "2025-04-08T19:07:28.993132Z",
     "start_time": "2025-04-08T19:07:28.989306Z"
    }
   },
   "cell_type": "code",
   "source": [
    "np_inputs = np.array(inputs)\n",
    "\n",
    "np_weights = np.array([\n",
    "    weights1,\n",
    "    weights2,\n",
    "    weights3\n",
    "])\n",
    "\n",
    "np_biases = np.array([bias1, bias2, bias3])\n",
    "\n",
    "output = np.dot(np_weights, np_inputs) + np_biases\n",
    "\n",
    "print(output)"
   ],
   "id": "1e289bf9b89e91d7",
   "outputs": [
    {
     "name": "stdout",
     "output_type": "stream",
     "text": [
      "[ 0.33  0.16 -0.43]\n"
     ]
    }
   ],
   "execution_count": 41
  },
  {
   "cell_type": "markdown",
   "id": "4",
   "metadata": {},
   "source": [
    "## Teil 4: Mehrere Observationen\n",
    "Skalieren Sie das Beispiel so, dass es für mehrere Observationen (hier 3) und Perzeptronen (hier 3) in einer Schicht funktioniert. Legen Sie hierfür die 4x3 Matritzen für `inputs` und `weights` als Listen von Listen an."
   ]
  },
  {
   "metadata": {
    "ExecuteTime": {
     "end_time": "2025-04-08T19:07:37.683359Z",
     "start_time": "2025-04-08T19:07:37.678358Z"
    }
   },
   "cell_type": "code",
   "source": [
    "np_inputs = np.array([\n",
    "    [.1, .2, .3, .4],\n",
    "    [.3, .1, .2, .4],\n",
    "    [.1, .2, .4, .3]\n",
    "])\n",
    "\n",
    "np_weights = np.array([\n",
    "    [1, 0, -.5, .2],\n",
    "    [1, -.5, .2, 0],\n",
    "    [.2, 1, -.5, 0]\n",
    "])\n",
    "\n",
    "np_biases = np.array([.3, .1, -.5])\n",
    "\n",
    "outputs = np.dot(np_inputs, np_weights.T) + np_biases\n",
    "\n",
    "print(outputs)"
   ],
   "id": "cf515549e8ba41b2",
   "outputs": [
    {
     "name": "stdout",
     "output_type": "stream",
     "text": [
      "[[ 0.33  0.16 -0.43]\n",
      " [ 0.58  0.39 -0.44]\n",
      " [ 0.26  0.18 -0.48]]\n"
     ]
    }
   ],
   "execution_count": 42
  }
 ],
 "metadata": {
  "celltoolbar": "Tags",
  "kernelspec": {
   "display_name": "Python 3 (ipykernel)",
   "language": "python",
   "name": "python3"
  },
  "language_info": {
   "codemirror_mode": {
    "name": "ipython",
    "version": 3
   },
   "file_extension": ".py",
   "mimetype": "text/x-python",
   "name": "python",
   "nbconvert_exporter": "python",
   "pygments_lexer": "ipython3",
   "version": "3.10.4"
  }
 },
 "nbformat": 4,
 "nbformat_minor": 5
}
