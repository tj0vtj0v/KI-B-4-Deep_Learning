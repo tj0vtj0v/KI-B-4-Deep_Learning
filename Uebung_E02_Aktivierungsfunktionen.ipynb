{
 "cells": [
  {
   "cell_type": "markdown",
   "id": "0",
   "metadata": {},
   "source": [
    "# Aktivierungsfunktionen\n",
    "Deep Learning - KI29  \n",
    "Deggendorf Institute of Technology  \n",
    "Prof. Dr. Florian Wahl"
   ]
  },
  {
   "cell_type": "code",
   "execution_count": 1,
   "id": "1",
   "metadata": {},
   "outputs": [],
   "source": [
    "import nnfs\n",
    "import numpy as np\n",
    "\n",
    "from nnfs.datasets import spiral_data\n",
    "import matplotlib.pyplot as plt"
   ]
  },
  {
   "cell_type": "markdown",
   "id": "2",
   "metadata": {},
   "source": [
    "Bevor es weiter geht sollten wir 2 Dinge klären:\n",
    "1. Berechnung des Outputs eines Layers formalisieren und in eine Klasse kapseln.\n",
    "2. Generierung von Testdaten."
   ]
  },
  {
   "cell_type": "markdown",
   "id": "3",
   "metadata": {},
   "source": [
    "## Forward pass berechnen\n",
    "Die bisherige Berechnung nennt man den Forward Pass, da diese im Inference Schritt durchgeführt wird.\n",
    "Im nächsten Schritt soll eine Layer Klasse erstellt werden. Diese initialisiert die Neuronen und berechnet den Output je Neuron."
   ]
  },
  {
   "cell_type": "code",
   "execution_count": 8,
   "id": "4",
   "metadata": {},
   "outputs": [],
   "source": [
    "class Layer_Dense:\n",
    "    def __init__(self, n_inputs, n_neurons):\n",
    "        self.weights = 0.01 * np.random.randn(n_inputs, n_neurons)\n",
    "        self.biases = np.zeros((1, n_neurons))\n",
    "    def forward(self, inputs):\n",
    "        self.output = np.dot(inputs, self.weights) + self.biases"
   ]
  },
  {
   "cell_type": "code",
   "execution_count": 3,
   "id": "5fa6751d-d1a7-46d2-bcaf-80b0fc011f21",
   "metadata": {},
   "outputs": [
    {
     "data": {
      "text/plain": [
       "array([[-0.00110971,  0.00951495, -0.01062047],\n",
       "       [ 0.00090805, -0.0002967 , -0.00221207],\n",
       "       [ 0.00868286,  0.01812075,  0.02034546],\n",
       "       [ 0.0058883 , -0.0230163 ,  0.0070905 ]])"
      ]
     },
     "execution_count": 3,
     "metadata": {},
     "output_type": "execute_result"
    }
   ],
   "source": [
    "0.01 * np.random.randn(4, 3)"
   ]
  },
  {
   "cell_type": "code",
   "execution_count": 7,
   "id": "94375a49-37cc-45bd-9963-5b04e8294ced",
   "metadata": {},
   "outputs": [
    {
     "data": {
      "text/plain": [
       "array([[0.],\n",
       "       [0.],\n",
       "       [0.],\n",
       "       [0.],\n",
       "       [0.]])"
      ]
     },
     "execution_count": 7,
     "metadata": {},
     "output_type": "execute_result"
    }
   ],
   "source": [
    "np.zeros((5, 1))"
   ]
  },
  {
   "cell_type": "markdown",
   "id": "5",
   "metadata": {},
   "source": [
    "## Testdaten generieren\n",
    "Nun benötigen wir noch Testdaten. Diese können mittels der Bibliothek nnfs generiert werden."
   ]
  },
  {
   "cell_type": "code",
   "execution_count": 9,
   "id": "25337b98-39f2-4924-9169-51194a56b3a9",
   "metadata": {},
   "outputs": [],
   "source": [
    "nnfs.init()\n",
    "X, y = spiral_data(samples=100, classes=3)"
   ]
  },
  {
   "cell_type": "code",
   "execution_count": 11,
   "id": "412a6a75-143d-4d9f-9dc3-f3a9986d26d1",
   "metadata": {},
   "outputs": [
    {
     "data": {
      "text/plain": [
       "(300, 2)"
      ]
     },
     "execution_count": 11,
     "metadata": {},
     "output_type": "execute_result"
    }
   ],
   "source": [
    "X.shape"
   ]
  },
  {
   "cell_type": "code",
   "execution_count": 12,
   "id": "e301e1bc-919a-4103-b3cf-1f482b5eec96",
   "metadata": {},
   "outputs": [
    {
     "data": {
      "text/plain": [
       "array([0, 0, 0, 0, 0, 0, 0, 0, 0, 0, 0, 0, 0, 0, 0, 0, 0, 0, 0, 0, 0, 0,\n",
       "       0, 0, 0, 0, 0, 0, 0, 0, 0, 0, 0, 0, 0, 0, 0, 0, 0, 0, 0, 0, 0, 0,\n",
       "       0, 0, 0, 0, 0, 0, 0, 0, 0, 0, 0, 0, 0, 0, 0, 0, 0, 0, 0, 0, 0, 0,\n",
       "       0, 0, 0, 0, 0, 0, 0, 0, 0, 0, 0, 0, 0, 0, 0, 0, 0, 0, 0, 0, 0, 0,\n",
       "       0, 0, 0, 0, 0, 0, 0, 0, 0, 0, 0, 0, 1, 1, 1, 1, 1, 1, 1, 1, 1, 1,\n",
       "       1, 1, 1, 1, 1, 1, 1, 1, 1, 1, 1, 1, 1, 1, 1, 1, 1, 1, 1, 1, 1, 1,\n",
       "       1, 1, 1, 1, 1, 1, 1, 1, 1, 1, 1, 1, 1, 1, 1, 1, 1, 1, 1, 1, 1, 1,\n",
       "       1, 1, 1, 1, 1, 1, 1, 1, 1, 1, 1, 1, 1, 1, 1, 1, 1, 1, 1, 1, 1, 1,\n",
       "       1, 1, 1, 1, 1, 1, 1, 1, 1, 1, 1, 1, 1, 1, 1, 1, 1, 1, 1, 1, 1, 1,\n",
       "       1, 1, 2, 2, 2, 2, 2, 2, 2, 2, 2, 2, 2, 2, 2, 2, 2, 2, 2, 2, 2, 2,\n",
       "       2, 2, 2, 2, 2, 2, 2, 2, 2, 2, 2, 2, 2, 2, 2, 2, 2, 2, 2, 2, 2, 2,\n",
       "       2, 2, 2, 2, 2, 2, 2, 2, 2, 2, 2, 2, 2, 2, 2, 2, 2, 2, 2, 2, 2, 2,\n",
       "       2, 2, 2, 2, 2, 2, 2, 2, 2, 2, 2, 2, 2, 2, 2, 2, 2, 2, 2, 2, 2, 2,\n",
       "       2, 2, 2, 2, 2, 2, 2, 2, 2, 2, 2, 2, 2, 2], dtype=uint8)"
      ]
     },
     "execution_count": 12,
     "metadata": {},
     "output_type": "execute_result"
    }
   ],
   "source": [
    "y"
   ]
  },
  {
   "cell_type": "code",
   "execution_count": 13,
   "id": "a953306d-ba59-45e2-ab9c-030f4d57cc57",
   "metadata": {},
   "outputs": [
    {
     "data": {
      "text/plain": [
       "<matplotlib.collections.PathCollection at 0x1147a1010>"
      ]
     },
     "execution_count": 13,
     "metadata": {},
     "output_type": "execute_result"
    },
    {
     "data": {
      "image/png": "[encoded data removed]",
      "text/plain": [
       "<Figure size 640x480 with 1 Axes>"
      ]
     },
     "metadata": {},
     "output_type": "display_data"
    }
   ],
   "source": [
    "plt.scatter(X[:, 0], X[:, 1], c=y, cmap=\"brg\")"
   ]
  },
  {
   "cell_type": "code",
   "execution_count": 20,
   "id": "28b544d0-1909-47c0-8048-8ba0e5377b62",
   "metadata": {},
   "outputs": [
    {
     "data": {
      "text/plain": [
       "np.float64(0.7633333333333333)"
      ]
     },
     "execution_count": 20,
     "metadata": {},
     "output_type": "execute_result"
    }
   ],
   "source": [
    "from sklearn.neighbors import KNeighborsClassifier\n",
    "from sklearn.model_selection import cross_val_score\n",
    "from sklearn.model_selection import KFold\n",
    "\n",
    "cv = KFold(n_splits=5, shuffle=True)\n",
    "knn = KNeighborsClassifier(n_neighbors=3)\n",
    "cross_val_score(knn, X, y, cv=cv).mean()"
   ]
  },
  {
   "cell_type": "code",
   "execution_count": 24,
   "id": "4698a26e-5b9d-4701-b09d-70a4c46fdb24",
   "metadata": {},
   "outputs": [
    {
     "data": {
      "text/plain": [
       "np.float64(0.6266666666666667)"
      ]
     },
     "execution_count": 24,
     "metadata": {},
     "output_type": "execute_result"
    }
   ],
   "source": [
    "from sklearn.tree import DecisionTreeClassifier\n",
    "from sklearn.model_selection import cross_val_score\n",
    "from sklearn.model_selection import KFold\n",
    "\n",
    "dt = DecisionTreeClassifier(max_depth=8)\n",
    "\n",
    "cv = KFold(n_splits=5, shuffle=True)\n",
    "cross_val_score(dt, X, y, cv=cv).mean()"
   ]
  },
  {
   "cell_type": "code",
   "execution_count": 26,
   "id": "c7b0e873-601c-48fa-a1d1-f62402a0b0d2",
   "metadata": {},
   "outputs": [
    {
     "data": {
      "text/plain": [
       "array([[ 0.00000000e+00,  0.00000000e+00,  0.00000000e+00],\n",
       "       [-1.56323964e-04, -6.16644829e-05,  2.89113154e-06],\n",
       "       [-2.02248208e-04,  1.60663949e-05,  9.96342933e-05],\n",
       "       [ 1.05374820e-04,  3.82086640e-04,  3.38739366e-04],\n",
       "       [ 7.48371822e-05,  4.63195349e-04,  4.32504981e-04],\n",
       "       [-9.10504197e-04, -5.36039588e-04, -1.60124808e-04],\n",
       "       [-1.84955425e-04,  4.58556897e-04,  5.35198953e-04],\n",
       "       [-7.75881053e-04, -2.00923278e-05,  3.00457265e-04],\n",
       "       [-7.21394026e-04,  1.58615308e-04,  4.56741633e-04],\n",
       "       [-2.20037968e-04,  7.36853923e-04,  8.28128133e-04],\n",
       "       [-3.06313363e-04,  7.65940058e-04,  8.92873795e-04],\n",
       "       [ 1.19749224e-03,  1.85713684e-03,  1.36330456e-03],\n",
       "       [ 8.00090085e-04,  1.76856795e-03,  1.43888080e-03],\n",
       "       [ 3.33590375e-04,  1.57023699e-03,  1.43318868e-03],\n",
       "       [ 1.04303344e-03,  2.12606648e-03,  1.69618253e-03],\n",
       "       [ 1.23937440e-03,  2.34431424e-03,  1.83341897e-03],\n",
       "       [ 2.79087666e-03,  2.87786243e-03,  1.72621931e-03],\n",
       "       [ 1.20100705e-03,  2.54457560e-03,  2.04963097e-03],\n",
       "       [ 2.33330810e-03,  3.17569869e-03,  2.21324968e-03],\n",
       "       [ 9.13980242e-04,  2.58326624e-03,  2.20692763e-03],\n",
       "       [-1.84706738e-03,  3.50378628e-04,  1.11367786e-03],\n",
       "       [ 3.79923265e-03,  3.71681480e-03,  2.14897864e-03],\n",
       "       [ 4.20624856e-03,  3.62424902e-03,  1.88820623e-03],\n",
       "       [ 2.90607405e-03,  4.03408101e-03,  2.83541484e-03],\n",
       "       [ 3.40799941e-03,  9.93139227e-04, -4.14403476e-04],\n",
       "       [ 2.55863136e-03,  4.14969679e-03,  3.09463590e-03],\n",
       "       [ 4.96677170e-03,  4.29372955e-03,  2.24380335e-03],\n",
       "       [ 5.14409738e-03,  4.49005282e-03,  2.36696075e-03],\n",
       "       [ 3.84253729e-03,  9.81761259e-04, -6.05318754e-04],\n",
       "       [ 3.69604002e-03,  6.56208373e-04, -8.70506454e-04],\n",
       "       [ 5.55507140e-03,  3.43329087e-03,  1.13988016e-03],\n",
       "       [ 5.24163898e-03,  2.54395721e-03,  3.79603065e-04],\n",
       "       [ 6.19304273e-03,  4.89588361e-03,  2.33961479e-03],\n",
       "       [ 5.69885271e-03,  5.95196383e-03,  3.60039435e-03],\n",
       "       [ 5.93075110e-03,  3.11585725e-03,  6.67075394e-04],\n",
       "       [ 4.71221609e-03,  1.10927818e-03, -8.37051310e-04],\n",
       "       [ 9.11071838e-04, -2.92124669e-03, -3.29910521e-03],\n",
       "       [ 3.15421610e-04, -3.51430336e-03, -3.64635885e-03],\n",
       "       [ 4.94878134e-03,  9.91642359e-04, -1.05248357e-03],\n",
       "       [ 4.22782311e-03,  3.77859510e-06, -1.74296787e-03],\n",
       "       [ 5.90094505e-03,  1.95800583e-03, -4.79033770e-04],\n",
       "       [ 6.46166457e-03,  2.60713953e-03, -6.12435906e-05],\n",
       "       [ 6.81218505e-03,  2.96950154e-03,  1.56477880e-04],\n",
       "       [-6.70358818e-03, -7.81004457e-03, -5.04428148e-03],\n",
       "       [ 1.63371221e-03, -3.12089757e-03, -3.79741774e-03],\n",
       "       [ 4.89297847e-04, -4.18912340e-03, -4.39335033e-03],\n",
       "       [ 3.15820286e-03, -1.91683171e-03, -3.22260824e-03],\n",
       "       [-6.22586347e-03, -8.33143294e-03, -5.76330209e-03],\n",
       "       [ 3.10824695e-03, -2.18203478e-03, -3.46730277e-03],\n",
       "       [-4.21548868e-03, -7.74552580e-03, -6.00770302e-03],\n",
       "       [-2.11378722e-03, -6.60803169e-03, -5.73797571e-03],\n",
       "       [-8.10105819e-03, -9.26978327e-03, -5.92736946e-03],\n",
       "       [-5.80387563e-03, -8.83843191e-03, -6.44489797e-03],\n",
       "       [-3.81141412e-03, -7.97134545e-03, -6.40057959e-03],\n",
       "       [-9.10820905e-03, -9.78402048e-03, -6.02575159e-03],\n",
       "       [-1.04680806e-02, -9.16867889e-03, -4.84826649e-03],\n",
       "       [-1.04663670e-02, -9.62956809e-03, -5.31009166e-03],\n",
       "       [-1.10234022e-02, -8.83750524e-03, -4.28749574e-03],\n",
       "       [-1.02884863e-02, -1.03693763e-02, -6.12375839e-03],\n",
       "       [-1.12467296e-02, -9.79876891e-03, -5.15696499e-03],\n",
       "       [-1.13118123e-02, -1.01890555e-02, -5.52055566e-03],\n",
       "       [-1.18039455e-02, -9.01011471e-03, -4.13770508e-03],\n",
       "       [-1.19454646e-02, -9.90961492e-03, -4.97917971e-03],\n",
       "       [-1.09662358e-02, -1.13386028e-02, -6.81344792e-03],\n",
       "       [-1.02258353e-02, -4.28291783e-03, -6.01756401e-05],\n",
       "       [-1.15333796e-02, -6.33231504e-03, -1.57036691e-03],\n",
       "       [-1.27104418e-02, -1.05744731e-02, -5.32831252e-03],\n",
       "       [-6.50241505e-03,  8.36052175e-04,  3.52297397e-03],\n",
       "       [-1.17859496e-02, -6.09179400e-03, -1.22537592e-03],\n",
       "       [-6.73575280e-03,  8.18481785e-04,  3.60179972e-03],\n",
       "       [-1.20384071e-03,  6.15496049e-03,  6.65537687e-03],\n",
       "       [-3.90392705e-03,  3.88603890e-03,  5.50088892e-03],\n",
       "       [ 4.36092308e-03,  1.03496639e-02,  8.55304115e-03],\n",
       "       [-9.81610548e-03, -2.29790597e-03,  1.75653549e-03],\n",
       "       [ 2.16497970e-03,  9.12531652e-03,  8.23535491e-03],\n",
       "       [-4.16360982e-03,  4.06782236e-03,  5.79005154e-03],\n",
       "       [-4.10600007e-03,  4.22763266e-03,  5.92613919e-03],\n",
       "       [-5.34336432e-04,  7.41112465e-03,  7.63555290e-03],\n",
       "       [ 2.98214215e-03,  1.00983223e-02,  8.87122657e-03],\n",
       "       [ 7.11188652e-03,  1.26485741e-02,  9.71651264e-03],\n",
       "       [-4.02214704e-04,  7.82138109e-03,  7.99142569e-03],\n",
       "       [ 1.40311336e-02,  1.45978788e-02,  8.80805589e-03],\n",
       "       [ 1.32837202e-02,  1.49043817e-02,  9.42350831e-03],\n",
       "       [ 1.46827940e-03,  9.54966713e-03,  8.94776080e-03],\n",
       "       [ 1.61154736e-02,  1.14007192e-02,  4.74815909e-03],\n",
       "       [ 1.48958853e-02,  7.91963469e-03,  1.76923303e-03],\n",
       "       [ 1.63756274e-02,  1.11675644e-02,  4.40740539e-03],\n",
       "       [ 1.55314915e-02,  1.55097274e-02,  9.10047442e-03],\n",
       "       [ 1.25630572e-02,  1.58225708e-02,  1.06398975e-02],\n",
       "       [ 1.57167763e-02,  8.52284860e-03,  2.03359011e-03],\n",
       "       [ 1.70554575e-02,  1.51431281e-02,  8.10405985e-03],\n",
       "       [ 1.33808767e-02,  4.39343415e-03, -1.13277661e-03],\n",
       "       [ 1.70035232e-02,  1.04492409e-02,  3.42930830e-03],\n",
       "       [ 1.27067035e-02,  3.18781170e-03, -2.06045667e-03],\n",
       "       [ 1.52397780e-02,  6.63566357e-03,  3.42546409e-04],\n",
       "       [ 1.20787788e-02,  2.11385614e-03, -2.87551270e-03],\n",
       "       [ 1.52620925e-02,  6.30629109e-03,  3.79135872e-06],\n",
       "       [-4.71554406e-04, -1.02301734e-02, -1.00404061e-02],\n",
       "       [ 1.22703006e-02,  1.94704800e-03, -3.12153134e-03],\n",
       "       [ 8.59067589e-03, -2.31568026e-03, -5.86611032e-03],\n",
       "       [ 0.00000000e+00,  0.00000000e+00,  0.00000000e+00],\n",
       "       [ 1.83006283e-04,  1.09261113e-04,  3.37050806e-05],\n",
       "       [ 3.44877859e-04,  1.75951180e-04,  3.35499899e-05],\n",
       "       [-7.06354767e-05, -3.57850164e-04, -3.28843656e-04],\n",
       "       [ 5.80889406e-04,  1.83048163e-04, -5.68589894e-05],\n",
       "       [-7.01765297e-04, -8.96420737e-04, -6.06925751e-04],\n",
       "       [ 3.05947120e-04, -3.50629649e-04, -4.77206748e-04],\n",
       "       [ 4.42258635e-04, -3.28824070e-04, -5.11708204e-04],\n",
       "       [-1.38282462e-03, -1.44256465e-03, -8.71956290e-04],\n",
       "       [-1.45038485e-03, -1.63598312e-03, -1.03755749e-03],\n",
       "       [-1.85351109e-03, -1.73600472e-03, -9.71074682e-04],\n",
       "       [-1.66583993e-03, -1.99340121e-03, -1.30613591e-03],\n",
       "       [-2.68193893e-04, -1.42113422e-03, -1.31103105e-03],\n",
       "       [-2.51535815e-03, -1.91585545e-03, -8.77568673e-04],\n",
       "       [-1.56220922e-03, -2.37942580e-03, -1.73516676e-03],\n",
       "       [-2.75617559e-03, -2.62526004e-03, -1.48782891e-03],\n",
       "       [-3.06404987e-03, -2.62267538e-03, -1.35804305e-03],\n",
       "       [-2.72183400e-03, -3.09024286e-03, -1.96722988e-03],\n",
       "       [-3.46295000e-03, -2.89854826e-03, -1.46924437e-03],\n",
       "       [-3.64021491e-03, -2.55626114e-03, -1.05355016e-03],\n",
       "       [-3.87017336e-03, -3.06930323e-03, -1.47183728e-03],\n",
       "       [-3.19883716e-03, -3.80769256e-03, -2.48795794e-03],\n",
       "       [-4.22027800e-03, -2.98384228e-03, -1.24168664e-03],\n",
       "       [-3.25834029e-03, -9.41465376e-04,  4.04270366e-04],\n",
       "       [-4.58697788e-03, -3.95788392e-03, -2.06470583e-03],\n",
       "       [-4.72940831e-03, -3.14105744e-03, -1.18862942e-03],\n",
       "       [-4.95887874e-03, -3.40641127e-03, -1.35930732e-03],\n",
       "       [-8.09436257e-04,  2.08320958e-03,  2.41866265e-03],\n",
       "       [-3.24990135e-03, -2.49929173e-04,  1.09266175e-03],\n",
       "       [-3.50539479e-03, -4.24062921e-04,  1.02400058e-03],\n",
       "       [-5.32913255e-03, -2.93459720e-03, -7.34287838e-04],\n",
       "       [-2.37258943e-03,  1.04977400e-03,  2.03054142e-03],\n",
       "       [-4.89925686e-03, -1.82096404e-03,  2.02290466e-04],\n",
       "       [-2.82545574e-03,  8.11502920e-04,  1.97925675e-03],\n",
       "       [-4.19456372e-03, -5.99389372e-04,  1.13332120e-03],\n",
       "       [ 4.48057166e-04,  3.90091375e-03,  3.71772493e-03],\n",
       "       [ 8.15366220e-04,  4.27113287e-03,  3.93637130e-03],\n",
       "       [-1.24121248e-03,  2.74051586e-03,  3.25468462e-03],\n",
       "       [ 1.66985625e-03,  5.06382156e-03,  4.37641470e-03],\n",
       "       [-3.04076774e-03,  1.26439915e-03,  2.52133398e-03],\n",
       "       [-3.79783846e-03,  5.89929870e-04,  2.15931935e-03],\n",
       "       [ 4.17369558e-03,  6.79534627e-03,  5.07432036e-03],\n",
       "       [ 4.02841065e-03,  6.84591616e-03,  5.18494099e-03],\n",
       "       [ 6.27329526e-03,  7.75709609e-03,  5.16908476e-03],\n",
       "       [ 8.23621824e-03,  5.26872743e-03,  1.86849351e-03],\n",
       "       [ 8.15140456e-03,  7.95840099e-03,  4.59453790e-03],\n",
       "       [ 3.32501391e-03,  6.92816870e-03,  5.55784628e-03],\n",
       "       [ 9.07481182e-03,  7.40740355e-03,  3.66175757e-03],\n",
       "       [ 3.47369676e-03,  7.23172631e-03,  5.80012472e-03],\n",
       "       [ 7.49660796e-03,  8.88802670e-03,  5.79515612e-03],\n",
       "       [ 9.05263517e-03,  8.84541310e-03,  5.10963984e-03],\n",
       "       [ 7.97756016e-03,  3.15243588e-03, -1.41978060e-04],\n",
       "       [ 8.84357467e-03,  9.40921158e-03,  5.76009182e-03],\n",
       "       [ 9.29205585e-03,  9.51738935e-03,  5.68303093e-03],\n",
       "       [ 1.04497727e-02,  7.98359048e-03,  3.67015647e-03],\n",
       "       [ 1.05205895e-02,  9.04787984e-03,  4.70571360e-03],\n",
       "       [ 7.22213509e-03,  1.37273385e-03, -1.61045208e-03],\n",
       "       [ 1.08924164e-02,  9.40407254e-03,  4.90846019e-03],\n",
       "       [ 1.11790886e-02,  9.25001968e-03,  4.63589095e-03],\n",
       "       [ 1.06793093e-02,  6.18315767e-03,  1.77399919e-03],\n",
       "       [ 1.05412295e-02,  5.64080756e-03,  1.28842937e-03],\n",
       "       [-2.08385848e-03, -7.72897853e-03, -6.87184185e-03],\n",
       "       [ 2.52134982e-03, -4.20332048e-03, -5.24710771e-03],\n",
       "       [ 6.28679711e-03, -5.98282029e-04, -3.19600245e-03],\n",
       "       [ 1.10250022e-02,  5.61041432e-03,  1.05814810e-03],\n",
       "       [-4.88761754e-04, -6.98682759e-03, -6.78834692e-03],\n",
       "       [ 9.00756568e-03,  2.24918174e-03, -1.47123123e-03],\n",
       "       [ 1.05779851e-02,  4.28878237e-03, -7.94500447e-05],\n",
       "       [-6.46892656e-03, -1.10582896e-02, -8.39108415e-03],\n",
       "       [-2.38063000e-03, -8.75866506e-03, -7.77942454e-03],\n",
       "       [-7.45062996e-03, -1.17457025e-02, -8.67324043e-03],\n",
       "       [-5.12487954e-03, -1.06893918e-02, -8.57730396e-03],\n",
       "       [-9.52276681e-03, -1.27588352e-02, -8.83075967e-03],\n",
       "       [-1.40012102e-03, -8.47826898e-03, -7.90399220e-03],\n",
       "       [-1.23777500e-04, -7.62291392e-03, -7.57554360e-03],\n",
       "       [-1.19564608e-02, -1.36328880e-02, -8.69975053e-03],\n",
       "       [-4.71284939e-03, -1.09907528e-02, -9.04904678e-03],\n",
       "       [-6.93638111e-03, -1.23306382e-02, -9.47093032e-03],\n",
       "       [-9.75097064e-03, -1.36463661e-02, -9.62444581e-03],\n",
       "       [-1.31855002e-02, -1.43324835e-02, -8.89190845e-03],\n",
       "       [-1.26405628e-02, -1.45388264e-02, -9.32349730e-03],\n",
       "       [-8.13380536e-03, -1.33739263e-02, -1.00200120e-02],\n",
       "       [-1.34597616e-02, -1.48967784e-02, -9.34316870e-03],\n",
       "       [-5.10236714e-03, -1.19762579e-02, -9.87410825e-03],\n",
       "       [-1.56382732e-02, -9.82841291e-03, -3.37223359e-03],\n",
       "       [-1.22071840e-02, -1.52977025e-02, -1.02618011e-02],\n",
       "       [-1.54290153e-02, -1.52937351e-02, -8.92671384e-03],\n",
       "       [-1.61184166e-02, -9.97838285e-03, -3.32390331e-03],\n",
       "       [-1.70355234e-02, -1.32640144e-02, -6.23225234e-03],\n",
       "       [-5.56947291e-03,  4.23208205e-03,  6.53523253e-03],\n",
       "       [-1.73733253e-02, -1.42095527e-02, -7.03869294e-03],\n",
       "       [-1.22016240e-02, -2.81970669e-03,  2.22006720e-03],\n",
       "       [-1.29886391e-02, -3.70591716e-03,  1.65857817e-03],\n",
       "       [-1.72511302e-02, -1.07198218e-02, -3.59772332e-03],\n",
       "       [-5.96527010e-03,  4.39031981e-03,  6.85707480e-03],\n",
       "       [-1.00845275e-02,  2.32220584e-04,  4.39881301e-03],\n",
       "       [-1.43340512e-04,  9.65273567e-03,  9.71672963e-03],\n",
       "       [ 2.23215460e-03,  1.15335248e-02,  1.06170001e-02],\n",
       "       [ 1.47424806e-02,  1.77471619e-02,  1.16649996e-02],\n",
       "       [ 1.04657356e-02,  1.65807065e-02,  1.22649278e-02],\n",
       "       [ 0.00000000e+00,  0.00000000e+00,  0.00000000e+00],\n",
       "       [-2.11086335e-05,  8.46800103e-05,  9.34430209e-05],\n",
       "       [ 2.37769942e-04,  3.45593988e-04,  2.47528922e-04],\n",
       "       [ 2.98629748e-04,  4.94120817e-04,  3.70984577e-04],\n",
       "       [ 4.58404247e-04,  6.84659695e-04,  4.95605986e-04],\n",
       "       [-3.71577888e-04,  1.80422256e-04,  3.34030890e-04],\n",
       "       [ 5.60239598e-04,  9.70611640e-04,  7.39625480e-04],\n",
       "       [ 3.31943302e-04,  9.48645000e-04,  8.11969861e-04],\n",
       "       [ 1.17109367e-03,  1.44386909e-03,  9.60739097e-04],\n",
       "       [ 1.21215172e-03,  1.60091789e-03,  1.10090221e-03],\n",
       "       [ 1.89872098e-03,  1.67595851e-03,  8.92320124e-04],\n",
       "       [ 1.96819729e-03,  1.95884728e-03,  1.14664424e-03],\n",
       "       [ 2.31937319e-03,  1.87348854e-03,  9.16153018e-04],\n",
       "       [ 2.10304628e-03,  2.36295676e-03,  1.49523991e-03],\n",
       "       [ 2.03851354e-03,  2.52486533e-03,  1.68389070e-03],\n",
       "       [ 2.72648991e-03,  2.64685648e-03,  1.52170088e-03],\n",
       "       [ 3.09289992e-03,  2.49445275e-03,  1.21783745e-03],\n",
       "       [ 3.19237937e-03,  2.06444366e-03,  7.46515347e-04],\n",
       "       [ 9.77478223e-04, -9.96620278e-04, -1.40096340e-03],\n",
       "       [ 3.57557787e-03,  2.32955115e-03,  8.53433157e-04],\n",
       "       [ 3.84426257e-03,  3.23361810e-03,  1.64693850e-03],\n",
       "       [ 3.89919151e-03,  2.43022712e-03,  8.20456189e-04],\n",
       "       [ 4.03039204e-03,  2.41356739e-03,  7.49582134e-04],\n",
       "       [ 2.75862543e-03,  3.10601550e-04, -8.28986114e-04],\n",
       "       [ 4.64592082e-03,  3.63409333e-03,  1.71640236e-03],\n",
       "       [ 3.02536227e-03,  3.69730929e-04, -8.80031264e-04],\n",
       "       [ 2.53427099e-03, -3.12577555e-04, -1.35978009e-03],\n",
       "       [ 1.98140601e-03, -9.99271637e-04, -1.81839452e-03],\n",
       "       [ 3.50245787e-03,  5.52210375e-04, -8.94576311e-04],\n",
       "       [ 2.29858072e-03, -9.02256696e-04, -1.85237394e-03],\n",
       "       [ 4.59895469e-03,  1.71576091e-03, -1.83474200e-04],\n",
       "       [ 2.04378110e-03, -1.37407181e-03, -2.21915054e-03],\n",
       "       [ 1.65996130e-03, -1.84395467e-03, -2.53068842e-03],\n",
       "       [-1.94386998e-03, -4.71023610e-03, -3.90944444e-03],\n",
       "       [ 2.41639675e-03, -1.33622717e-03, -2.33523548e-03],\n",
       "       [-4.33258479e-03, -6.10890426e-03, -4.32189321e-03],\n",
       "       [-6.36520330e-03, -6.44471776e-03, -3.81808542e-03],\n",
       "       [ 3.61966481e-03, -4.30494867e-04, -1.92619208e-03],\n",
       "       [-5.37519064e-03, -6.82201097e-03, -4.60459432e-03],\n",
       "       [-6.53260294e-03, -7.07268110e-03, -4.37719701e-03],\n",
       "       [-3.64093878e-03, -6.42434508e-03, -4.92324727e-03],\n",
       "       [-5.17726457e-03, -7.19016837e-03, -5.05470764e-03],\n",
       "       [-6.58416329e-03, -7.63056101e-03, -4.91404999e-03],\n",
       "       [-6.83038309e-03, -7.81570189e-03, -4.99755563e-03],\n",
       "       [-7.42120156e-03, -7.97221251e-03, -4.91004344e-03],\n",
       "       [-3.98621848e-03, -7.17212772e-03, -5.52874571e-03],\n",
       "       [-8.13221931e-03, -4.42252215e-03, -1.06483779e-03],\n",
       "       [-8.05212837e-03, -4.04075254e-03, -7.15969305e-04],\n",
       "       [-8.69263429e-03, -8.49030912e-03, -4.90309717e-03],\n",
       "       [-7.89950136e-03, -8.90698470e-03, -5.64766582e-03],\n",
       "       [-8.45663715e-03, -4.10725549e-03, -6.15380122e-04],\n",
       "       [-9.85470694e-03, -7.35502737e-03, -3.28713725e-03],\n",
       "       [-8.73318035e-03, -4.16611275e-03, -5.60011249e-04],\n",
       "       [-9.48606711e-03, -5.32852719e-03, -1.41194090e-03],\n",
       "       [-5.67142433e-03,  2.00143579e-04,  2.54342263e-03],\n",
       "       [-4.82988125e-03,  1.22670154e-03,  3.22279986e-03],\n",
       "       [-9.56110097e-03, -4.75626625e-03, -8.08396318e-04],\n",
       "       [-1.06551619e-02, -6.78555900e-03, -2.38667522e-03],\n",
       "       [-1.08385179e-02, -6.89485483e-03, -2.42027058e-03],\n",
       "       [-1.24223204e-03,  4.99877613e-03,  5.51448250e-03],\n",
       "       [-9.15296096e-03, -3.36611434e-03,  4.13817528e-04],\n",
       "       [-5.30115934e-03,  1.41858624e-03,  3.60949081e-03],\n",
       "       [-4.77645965e-03,  2.06810189e-03,  4.04254487e-03],\n",
       "       [-4.43962810e-04,  6.05824310e-03,  6.24466408e-03],\n",
       "       [-9.52735916e-03, -3.25328973e-03,  6.81382604e-04],\n",
       "       [ 3.55330436e-03,  9.10772849e-03,  7.64416391e-03],\n",
       "       [ 6.73092529e-03,  1.09444186e-02,  8.16891063e-03],\n",
       "       [ 5.50251361e-03,  1.04535511e-02,  8.18532519e-03],\n",
       "       [ 4.38351324e-03,  9.93332453e-03,  8.12716316e-03],\n",
       "       [ 8.02653842e-03,  1.18565541e-02,  8.54620710e-03],\n",
       "       [ 1.05850250e-02,  1.26833925e-02,  8.31640139e-03],\n",
       "       [-7.62800593e-03,  7.09402739e-05,  3.22252791e-03],\n",
       "       [ 1.32901575e-02,  8.13610293e-03,  2.64922413e-03],\n",
       "       [ 1.31456768e-02,  1.29556740e-02,  7.53087038e-03],\n",
       "       [ 1.00214090e-02,  1.31777208e-02,  9.04383510e-03],\n",
       "       [ 1.22681130e-02,  1.36275319e-02,  8.56563170e-03],\n",
       "       [ 1.47092808e-02,  1.16092833e-02,  5.53780328e-03],\n",
       "       [ 1.45309167e-02,  1.30548589e-02,  7.05778552e-03],\n",
       "       [ 7.10206199e-03,  1.25285843e-02,  9.60052293e-03],\n",
       "       [ 7.37638259e-03, -1.29825727e-03, -4.34649223e-03],\n",
       "       [ 1.54360933e-02,  1.13550043e-02,  4.98311128e-03],\n",
       "       [ 1.15015339e-02,  3.35122016e-03, -1.39904488e-03],\n",
       "       [ 1.58735365e-02,  1.24183483e-02,  5.86624956e-03],\n",
       "       [ 5.71023254e-03, -3.44715570e-03, -5.80807403e-03],\n",
       "       [ 1.26087936e-02,  4.41748323e-03, -7.89725280e-04],\n",
       "       [ 9.62864980e-03,  4.82562435e-04, -3.49532836e-03],\n",
       "       [ 1.62482411e-02,  1.07390350e-02,  4.03129449e-03],\n",
       "       [ 2.04802910e-03, -7.18959235e-03, -8.03930126e-03],\n",
       "       [ 4.73336782e-03, -4.91464790e-03, -6.87269447e-03],\n",
       "       [-2.15600268e-03, -1.06593417e-02, -9.77384765e-03],\n",
       "       [ 1.17284833e-02,  2.35828152e-03, -2.48623965e-03],\n",
       "       [ 9.41641536e-03, -4.94346372e-04, -4.38503455e-03],\n",
       "       [-1.42717576e-02, -1.67049430e-02, -1.08167464e-02],\n",
       "       [ 1.09158522e-02,  9.72972135e-04, -3.53649096e-03],\n",
       "       [ 1.60618755e-03, -8.27381108e-03, -8.94150697e-03],\n",
       "       [-1.11158313e-02, -1.63489580e-02, -1.17644742e-02],\n",
       "       [-4.24539717e-03, -1.28103849e-02, -1.10627087e-02],\n",
       "       [-1.01978416e-02, -1.62210613e-02, -1.20157870e-02],\n",
       "       [-3.46937915e-03, -1.24999732e-02, -1.10727604e-02],\n",
       "       [-1.18962470e-02, -1.71532314e-02, -1.22467121e-02]], dtype=float32)"
      ]
     },
     "execution_count": 26,
     "metadata": {},
     "output_type": "execute_result"
    }
   ],
   "source": [
    "dense1 = Layer_Dense(2, 3)\n",
    "\n",
    "dense1.forward(X)\n",
    "\n",
    "dense1.output\n",
    "\n"
   ]
  },
  {
   "cell_type": "markdown",
   "id": "6",
   "metadata": {},
   "source": [
    "## Aktivierungsfunktionen\n",
    "Im Folgdenden wollen wir pro Aktivierungsfunktion eine Klasse beschreiben. Dies bedeutet, dass wir am Ende eine Schicht immer aus Dense Layer + Aktivierungsfunktion beschreiben."
   ]
  },
  {
   "cell_type": "code",
   "execution_count": 27,
   "id": "7",
   "metadata": {},
   "outputs": [],
   "source": [
    "class Activation_Linear:\n",
    "    def forward(inputs):\n",
    "        self.output = inputs"
   ]
  },
  {
   "cell_type": "code",
   "execution_count": 28,
   "id": "8",
   "metadata": {},
   "outputs": [
    {
     "name": "stdout",
     "output_type": "stream",
     "text": [
      "[1, 0, 1, 1, 0, 0]\n"
     ]
    }
   ],
   "source": [
    "my_inputs = [1, -3, 4, 6, -5, -3]\n",
    "\n",
    "my_outputs = []\n",
    "\n",
    "for i in my_inputs:\n",
    "    if i > 0:\n",
    "        my_outputs.append(1)\n",
    "    else:\n",
    "        my_outputs.append(0)\n",
    "        \n",
    "print(my_outputs)"
   ]
  },
  {
   "cell_type": "code",
   "execution_count": null,
   "id": "c2cf5b1f-4d08-47a9-9bec-9f926553c69e",
   "metadata": {},
   "outputs": [],
   "source": []
  },
  {
   "cell_type": "code",
   "execution_count": 31,
   "id": "9",
   "metadata": {},
   "outputs": [],
   "source": [
    "np.heaviside(my_inputs, 1)\n",
    "\n",
    "class Activation_Step:\n",
    "    def forward(self, inputs):\n",
    "        self.output = np.heaviside(inputs, 1)"
   ]
  },
  {
   "cell_type": "code",
   "execution_count": null,
   "id": "b0efde14-aadc-4d80-b396-60c65ac72f7b",
   "metadata": {},
   "outputs": [],
   "source": []
  },
  {
   "cell_type": "code",
   "execution_count": null,
   "id": "70d70f98-7749-4910-8cc7-edb33226d95a",
   "metadata": {},
   "outputs": [],
   "source": []
  },
  {
   "cell_type": "code",
   "execution_count": null,
   "id": "dedfc8e7-7e4b-443c-ae0f-1980312fda40",
   "metadata": {},
   "outputs": [],
   "source": []
  },
  {
   "cell_type": "code",
   "execution_count": null,
   "id": "d45e92b2-d1b2-4395-aedc-ddb2bac05d96",
   "metadata": {},
   "outputs": [],
   "source": []
  },
  {
   "cell_type": "code",
   "execution_count": null,
   "id": "ff65b470-acbe-4159-914b-95ad4306ca85",
   "metadata": {},
   "outputs": [],
   "source": []
  },
  {
   "cell_type": "code",
   "execution_count": 33,
   "id": "10",
   "metadata": {},
   "outputs": [],
   "source": [
    "class Activation_Sigmoid:\n",
    "    def forward(self, inputs):\n",
    "        self.output = 1 / (1 + np.exp(-inputs))"
   ]
  },
  {
   "cell_type": "code",
   "execution_count": 34,
   "id": "11",
   "metadata": {},
   "outputs": [],
   "source": [
    "class Activation_ReLU:\n",
    "    def forward(self, inputs):\n",
    "        self.output = np.maximum(0, inputs)"
   ]
  },
  {
   "cell_type": "markdown",
   "id": "12",
   "metadata": {},
   "source": [
    "## Softmax\n",
    "Im nächsten Schritt, soll noch die Softmax Aktivierungsfunktion entwickelt werden."
   ]
  },
  {
   "cell_type": "code",
   "execution_count": 35,
   "id": "13",
   "metadata": {},
   "outputs": [
    {
     "data": {
      "text/plain": [
       "array([[ 4.8  ,  1.21 ,  2.385],\n",
       "       [ 8.9  , -1.81 ,  0.2  ],\n",
       "       [ 1.41 ,  1.051,  0.025]])"
      ]
     },
     "execution_count": 35,
     "metadata": {},
     "output_type": "execute_result"
    }
   ],
   "source": [
    "my_inputs = np.array([[4.8, 1.21, 2.385], [8.9, -1.81, 0.2], [1.41, 1.051, 0.025]])\n",
    "my_inputs"
   ]
  },
  {
   "cell_type": "code",
   "execution_count": 36,
   "id": "14",
   "metadata": {},
   "outputs": [
    {
     "data": {
      "text/plain": [
       "array([[1.21510418e+02, 3.35348465e+00, 1.08590627e+01],\n",
       "       [7.33197354e+03, 1.63654137e-01, 1.22140276e+00],\n",
       "       [4.09595540e+00, 2.86051020e+00, 1.02531512e+00]])"
      ]
     },
     "execution_count": 36,
     "metadata": {},
     "output_type": "execute_result"
    }
   ],
   "source": [
    "my_exps = np.exp(my_inputs)\n",
    "my_exps"
   ]
  },
  {
   "cell_type": "code",
   "execution_count": 39,
   "id": "15",
   "metadata": {},
   "outputs": [
    {
     "data": {
      "text/plain": [
       "array([7.45757991e+03, 6.37764899e+00, 1.31057805e+01])"
      ]
     },
     "execution_count": 39,
     "metadata": {},
     "output_type": "execute_result"
    }
   ],
   "source": [
    "my_exps.sum(axis=0)"
   ]
  },
  {
   "cell_type": "code",
   "execution_count": 42,
   "id": "16",
   "metadata": {},
   "outputs": [
    {
     "data": {
      "text/plain": [
       "array([[ 135.72296484],\n",
       "       [7333.35859605],\n",
       "       [   7.98178072]])"
      ]
     },
     "execution_count": 42,
     "metadata": {},
     "output_type": "execute_result"
    }
   ],
   "source": [
    "my_exps.sum(axis=1, keepdims=True)"
   ]
  },
  {
   "cell_type": "code",
   "execution_count": 43,
   "id": "17",
   "metadata": {},
   "outputs": [],
   "source": [
    "softmax = my_exps / my_exps.sum(axis=1, keepdims=True)"
   ]
  },
  {
   "cell_type": "code",
   "execution_count": 44,
   "id": "18",
   "metadata": {},
   "outputs": [
    {
     "data": {
      "text/plain": [
       "array([[8.95282664e-01, 2.47083068e-02, 8.00090293e-02],\n",
       "       [9.99811129e-01, 2.23163963e-05, 1.66554348e-04],\n",
       "       [5.13163108e-01, 3.58379953e-01, 1.28456939e-01]])"
      ]
     },
     "execution_count": 44,
     "metadata": {},
     "output_type": "execute_result"
    }
   ],
   "source": [
    "softmax"
   ]
  },
  {
   "cell_type": "code",
   "execution_count": 45,
   "id": "19",
   "metadata": {},
   "outputs": [
    {
     "data": {
      "text/plain": [
       "array([1., 1., 1.])"
      ]
     },
     "execution_count": 45,
     "metadata": {},
     "output_type": "execute_result"
    }
   ],
   "source": [
    "softmax.sum(axis=1)"
   ]
  },
  {
   "cell_type": "code",
   "execution_count": 46,
   "id": "20",
   "metadata": {},
   "outputs": [
    {
     "data": {
      "text/plain": [
       "array([[0.895, 0.025, 0.08 ],\n",
       "       [1.   , 0.   , 0.   ],\n",
       "       [0.513, 0.358, 0.128]])"
      ]
     },
     "execution_count": 46,
     "metadata": {},
     "output_type": "execute_result"
    }
   ],
   "source": [
    "softmax.round(3)"
   ]
  },
  {
   "cell_type": "code",
   "execution_count": 47,
   "id": "21",
   "metadata": {},
   "outputs": [
    {
     "data": {
      "text/plain": [
       "array([[4.8 ],\n",
       "       [8.9 ],\n",
       "       [1.41]])"
      ]
     },
     "execution_count": 47,
     "metadata": {},
     "output_type": "execute_result"
    }
   ],
   "source": [
    "np.max(my_inputs, axis=1, keepdims=True)"
   ]
  },
  {
   "cell_type": "markdown",
   "id": "22",
   "metadata": {},
   "source": [
    "Problem mit Overflows!"
   ]
  },
  {
   "cell_type": "code",
   "execution_count": 48,
   "id": "23",
   "metadata": {},
   "outputs": [
    {
     "name": "stderr",
     "output_type": "stream",
     "text": [
      "/var/folders/jp/dbt92gf5219d0r_ym80fgjxm0000gn/T/ipykernel_80368/2006519253.py:1: RuntimeWarning: overflow encountered in exp\n",
      "  np.exp(1000)\n"
     ]
    },
    {
     "data": {
      "text/plain": [
       "np.float64(inf)"
      ]
     },
     "execution_count": 48,
     "metadata": {},
     "output_type": "execute_result"
    }
   ],
   "source": [
    "np.exp(1000)"
   ]
  },
  {
   "cell_type": "code",
   "execution_count": 49,
   "id": "24",
   "metadata": {},
   "outputs": [],
   "source": [
    "my_inputs_maxsub = my_inputs - np.max(my_inputs, axis=1, keepdims=True)"
   ]
  },
  {
   "cell_type": "code",
   "execution_count": 50,
   "id": "25",
   "metadata": {},
   "outputs": [
    {
     "data": {
      "text/plain": [
       "array([[  0.   ,  -3.59 ,  -2.415],\n",
       "       [  0.   , -10.71 ,  -8.7  ],\n",
       "       [  0.   ,  -0.359,  -1.385]])"
      ]
     },
     "execution_count": 50,
     "metadata": {},
     "output_type": "execute_result"
    }
   ],
   "source": [
    "my_inputs_maxsub"
   ]
  },
  {
   "cell_type": "code",
   "execution_count": 51,
   "id": "26",
   "metadata": {},
   "outputs": [
    {
     "data": {
      "text/plain": [
       "array([[1.00000000e+00, 2.75983304e-02, 8.93673389e-02],\n",
       "       [1.00000000e+00, 2.23206120e-05, 1.66585811e-04],\n",
       "       [1.00000000e+00, 6.98374351e-01, 2.50323800e-01]])"
      ]
     },
     "execution_count": 51,
     "metadata": {},
     "output_type": "execute_result"
    }
   ],
   "source": [
    "my_exps_maxsub = np.exp(my_inputs_maxsub)\n",
    "my_exps_maxsub"
   ]
  },
  {
   "cell_type": "code",
   "execution_count": 52,
   "id": "27",
   "metadata": {},
   "outputs": [
    {
     "data": {
      "text/plain": [
       "array([[0.895, 0.025, 0.08 ],\n",
       "       [1.   , 0.   , 0.   ],\n",
       "       [0.513, 0.358, 0.128]])"
      ]
     },
     "execution_count": 52,
     "metadata": {},
     "output_type": "execute_result"
    }
   ],
   "source": [
    "my_outputs_maxsub = my_exps_maxsub / my_exps_maxsub.sum(axis=1, keepdims=True)\n",
    "my_outputs_maxsub.round(3)"
   ]
  },
  {
   "cell_type": "code",
   "execution_count": 53,
   "id": "28",
   "metadata": {},
   "outputs": [],
   "source": [
    "class Activation_Softmax:\n",
    "    def forward(self, inputs):\n",
    "        # Step 1: subtract maximum and calculate exp values\n",
    "        exp_values = np.exp(inputs - np.max(inputs, axis=1, keepdims=True))\n",
    "\n",
    "        # Step 2: Normalize by row\n",
    "        self.output = exp_values / np.sum(exp_values, axis=1, keepdims=True)"
   ]
  },
  {
   "cell_type": "markdown",
   "id": "29",
   "metadata": {},
   "source": [
    "## Finales Beispiel\n",
    "Hier können Sie ausprobieren, ob Sie ReLu und Softmax korrekt implementiert haben."
   ]
  },
  {
   "cell_type": "code",
   "execution_count": 54,
   "id": "30",
   "metadata": {},
   "outputs": [],
   "source": [
    "dense1 = Layer_Dense(2, 3)\n",
    "activation1 = Activation_ReLU()\n",
    "\n",
    "dense2 = Layer_Dense(3, 3)\n",
    "activation2 = Activation_Softmax()"
   ]
  },
  {
   "cell_type": "code",
   "execution_count": 55,
   "id": "31",
   "metadata": {},
   "outputs": [
    {
     "data": {
      "text/plain": [
       "array([[ 0.0000000e+00,  0.0000000e+00,  0.0000000e+00],\n",
       "       [-5.2199412e-05, -1.6280090e-04,  2.0739413e-04],\n",
       "       [-8.9835528e-05, -3.5944456e-04,  2.9575283e-04],\n",
       "       [-4.4044275e-05, -4.1896981e-04, -4.2343363e-05],\n",
       "       [-7.5916243e-05, -5.9541012e-04,  2.4831661e-05]], dtype=float32)"
      ]
     },
     "execution_count": 55,
     "metadata": {},
     "output_type": "execute_result"
    }
   ],
   "source": [
    "dense1.forward(X)\n",
    "dense1.output[:5]"
   ]
  },
  {
   "cell_type": "code",
   "execution_count": 56,
   "id": "32",
   "metadata": {},
   "outputs": [
    {
     "name": "stdout",
     "output_type": "stream",
     "text": [
      "[[0.0000000e+00 0.0000000e+00 0.0000000e+00]\n",
      " [0.0000000e+00 0.0000000e+00 2.0739413e-04]\n",
      " [0.0000000e+00 0.0000000e+00 2.9575283e-04]\n",
      " [0.0000000e+00 0.0000000e+00 0.0000000e+00]\n",
      " [0.0000000e+00 0.0000000e+00 2.4831661e-05]]\n"
     ]
    }
   ],
   "source": [
    "activation1.forward(dense1.output)\n",
    "print(activation1.output[:5])"
   ]
  },
  {
   "cell_type": "code",
   "execution_count": 57,
   "id": "33",
   "metadata": {},
   "outputs": [
    {
     "name": "stdout",
     "output_type": "stream",
     "text": [
      "[[ 0.0000000e+00  0.0000000e+00  0.0000000e+00]\n",
      " [ 1.6515470e-06 -2.3796365e-06  1.7694139e-06]\n",
      " [ 2.3551761e-06 -3.3934625e-06  2.5232594e-06]\n",
      " [ 0.0000000e+00  0.0000000e+00  0.0000000e+00]\n",
      " [ 1.9774261e-07 -2.8491803e-07  2.1185501e-07]]\n"
     ]
    }
   ],
   "source": [
    "dense2.forward(activation1.output)\n",
    "print(dense2.output[:5])"
   ]
  },
  {
   "cell_type": "code",
   "execution_count": 58,
   "id": "34",
   "metadata": {},
   "outputs": [
    {
     "name": "stdout",
     "output_type": "stream",
     "text": [
      "[[0.33333334 0.33333334 0.33333334]\n",
      " [0.33333376 0.33333242 0.33333382]\n",
      " [0.33333397 0.33333206 0.33333403]\n",
      " [0.33333334 0.33333334 0.33333334]\n",
      " [0.33333337 0.33333322 0.33333337]]\n"
     ]
    }
   ],
   "source": [
    "activation2.forward(dense2.output)\n",
    "print(activation2.output[:5])"
   ]
  },
  {
   "cell_type": "code",
   "execution_count": null,
   "id": "7a82a0d5-a706-45e9-8996-60da95bb1c07",
   "metadata": {},
   "outputs": [],
   "source": []
  }
 ],
 "metadata": {
  "celltoolbar": "Tags",
  "kernelspec": {
   "display_name": "Python 3 (ipykernel)",
   "language": "python",
   "name": "python3"
  },
  "language_info": {
   "codemirror_mode": {
    "name": "ipython",
    "version": 3
   },
   "file_extension": ".py",
   "mimetype": "text/x-python",
   "name": "python",
   "nbconvert_exporter": "python",
   "pygments_lexer": "ipython3",
   "version": "3.13.2"
  }
 },
 "nbformat": 4,
 "nbformat_minor": 5
}
